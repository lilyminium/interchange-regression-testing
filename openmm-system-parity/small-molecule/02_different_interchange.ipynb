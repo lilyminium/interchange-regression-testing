{
 "cells": [
  {
   "cell_type": "code",
   "execution_count": 1,
   "id": "93a7b663",
   "metadata": {},
   "outputs": [],
   "source": [
    "import copy\n",
    "import pickle\n",
    "import re\n",
    "from typing import List\n",
    "import tqdm\n",
    "\n",
    "import numpy as np"
   ]
  },
  {
   "cell_type": "code",
   "execution_count": 2,
   "id": "748c9a4d",
   "metadata": {},
   "outputs": [
    {
     "name": "stderr",
     "output_type": "stream",
     "text": [
      "Warning: Unable to load toolkit 'The RDKit'. \n",
      "Warning: Unable to load toolkit 'AmberTools'. \n"
     ]
    }
   ],
   "source": [
    "import openff.interchange\n",
    "import openff.toolkit\n",
    "\n",
    "from openff.interchange.components.interchange import Interchange\n",
    "from openff.toolkit.topology import Topology\n",
    "from openff.toolkit.typing.engines.smirnoff import ForceField\n",
    "\n",
    "import openmm\n",
    "import pandas as pd"
   ]
  },
  {
   "cell_type": "code",
   "execution_count": 3,
   "id": "af604c0a",
   "metadata": {},
   "outputs": [
    {
     "name": "stdout",
     "output_type": "stream",
     "text": [
      "v0.1.4\n"
     ]
    }
   ],
   "source": [
    "print(openff.interchange.__version__)"
   ]
  },
  {
   "cell_type": "code",
   "execution_count": 4,
   "id": "b919c212",
   "metadata": {},
   "outputs": [
    {
     "name": "stdout",
     "output_type": "stream",
     "text": [
      "0.10.6\n"
     ]
    }
   ],
   "source": [
    "print(openff.toolkit.__version__)"
   ]
  },
  {
   "cell_type": "code",
   "execution_count": 5,
   "id": "ac2fb050",
   "metadata": {},
   "outputs": [],
   "source": [
    "from interchange_regression_utilities.models import (\n",
    "    ComparisonSettings,\n",
    "    ExpectedValueChange,\n",
    "    model_from_file,\n",
    "    TopologyDefinition,\n",
    ")"
   ]
  },
  {
   "cell_type": "code",
   "execution_count": 6,
   "id": "77c12777",
   "metadata": {},
   "outputs": [],
   "source": [
    "models = model_from_file(List[TopologyDefinition], \"input-topologies.json\")"
   ]
  },
  {
   "cell_type": "code",
   "execution_count": 8,
   "id": "4f1e9fd9",
   "metadata": {},
   "outputs": [
    {
     "name": "stderr",
     "output_type": "stream",
     "text": [
      " 51%|█████████████████████▉                     | 26/51 [08:18<09:44, 23.39s/it]Warning (not error because allow_undefined_stereo=True): OEMol has unspecified stereochemistry. oemol.GetTitle(): \n",
      "Problematic atoms are:\n",
      "Atom atomic num: 7, name: , idx: 4, aromatic: False, chiral: True with bonds:\n",
      "bond order: 1, chiral: False to atom atomic num: 6, name: , idx: 3, aromatic: False, chiral: False\n",
      "bond order: 1, chiral: False to atom atomic num: 6, name: , idx: 5, aromatic: True, chiral: False\n",
      "bond order: 1, chiral: False to atom atomic num: 6, name: , idx: 15, aromatic: False, chiral: False\n",
      "\n",
      "Warning (not error because allow_undefined_stereo=True): OEMol has unspecified stereochemistry. oemol.GetTitle(): \n",
      "Problematic atoms are:\n",
      "Atom atomic num: 7, name: , idx: 4, aromatic: False, chiral: True with bonds:\n",
      "bond order: 1, chiral: False to atom atomic num: 6, name: , idx: 3, aromatic: False, chiral: False\n",
      "bond order: 1, chiral: False to atom atomic num: 6, name: , idx: 5, aromatic: True, chiral: False\n",
      "bond order: 1, chiral: False to atom atomic num: 6, name: , idx: 15, aromatic: False, chiral: False\n",
      "\n",
      " 67%|████████████████████████████▋              | 34/51 [10:09<03:43, 13.18s/it]Warning (not error because allow_undefined_stereo=True): OEMol has unspecified stereochemistry. oemol.GetTitle(): \n",
      "Problematic atoms are:\n",
      "Atom atomic num: 7, name: , idx: 7, aromatic: False, chiral: True with bonds:\n",
      "bond order: 1, chiral: False to atom atomic num: 6, name: , idx: 6, aromatic: True, chiral: False\n",
      "bond order: 1, chiral: False to atom atomic num: 6, name: , idx: 31, aromatic: False, chiral: True\n",
      "bond order: 1, chiral: False to atom atomic num: 6, name: , idx: 8, aromatic: False, chiral: False\n",
      "\n",
      "Warning (not error because allow_undefined_stereo=True): OEMol has unspecified stereochemistry. oemol.GetTitle(): \n",
      "Problematic atoms are:\n",
      "Atom atomic num: 7, name: , idx: 7, aromatic: False, chiral: True with bonds:\n",
      "bond order: 1, chiral: False to atom atomic num: 6, name: , idx: 6, aromatic: True, chiral: False\n",
      "bond order: 1, chiral: False to atom atomic num: 6, name: , idx: 31, aromatic: False, chiral: True\n",
      "bond order: 1, chiral: False to atom atomic num: 6, name: , idx: 8, aromatic: False, chiral: False\n",
      "\n",
      " 75%|████████████████████████████████           | 38/51 [11:19<02:29, 11.52s/it]Warning (not error because allow_undefined_stereo=True): OEMol has unspecified stereochemistry. oemol.GetTitle(): \n",
      "Problematic atoms are:\n",
      "Atom atomic num: 7, name: , idx: 10, aromatic: False, chiral: True with bonds:\n",
      "bond order: 1, chiral: False to atom atomic num: 6, name: , idx: 9, aromatic: True, chiral: False\n",
      "bond order: 1, chiral: False to atom atomic num: 6, name: , idx: 17, aromatic: False, chiral: False\n",
      "bond order: 1, chiral: False to atom atomic num: 6, name: , idx: 11, aromatic: False, chiral: False\n",
      "\n",
      "Warning (not error because allow_undefined_stereo=True): OEMol has unspecified stereochemistry. oemol.GetTitle(): \n",
      "Problematic atoms are:\n",
      "Atom atomic num: 7, name: , idx: 10, aromatic: False, chiral: True with bonds:\n",
      "bond order: 1, chiral: False to atom atomic num: 6, name: , idx: 9, aromatic: True, chiral: False\n",
      "bond order: 1, chiral: False to atom atomic num: 6, name: , idx: 17, aromatic: False, chiral: False\n",
      "bond order: 1, chiral: False to atom atomic num: 6, name: , idx: 11, aromatic: False, chiral: False\n",
      "\n",
      " 84%|████████████████████████████████████▎      | 43/51 [12:56<02:52, 21.58s/it]Warning (not error because allow_undefined_stereo=True): OEMol has unspecified stereochemistry. oemol.GetTitle(): \n",
      "Problematic atoms are:\n",
      "Atom atomic num: 7, name: , idx: 4, aromatic: False, chiral: True with bonds:\n",
      "bond order: 1, chiral: False to atom atomic num: 6, name: , idx: 3, aromatic: True, chiral: False\n",
      "bond order: 1, chiral: False to atom atomic num: 6, name: , idx: 26, aromatic: False, chiral: True\n",
      "bond order: 1, chiral: False to atom atomic num: 6, name: , idx: 5, aromatic: False, chiral: False\n",
      "\n",
      "Warning (not error because allow_undefined_stereo=True): OEMol has unspecified stereochemistry. oemol.GetTitle(): \n",
      "Problematic atoms are:\n",
      "Atom atomic num: 7, name: , idx: 4, aromatic: False, chiral: True with bonds:\n",
      "bond order: 1, chiral: False to atom atomic num: 6, name: , idx: 3, aromatic: True, chiral: False\n",
      "bond order: 1, chiral: False to atom atomic num: 6, name: , idx: 26, aromatic: False, chiral: True\n",
      "bond order: 1, chiral: False to atom atomic num: 6, name: , idx: 5, aromatic: False, chiral: False\n",
      "\n",
      " 88%|█████████████████████████████████████▉     | 45/51 [14:03<02:41, 26.99s/it]Warning (not error because allow_undefined_stereo=True): OEMol has unspecified stereochemistry. oemol.GetTitle(): \n",
      "Problematic atoms are:\n",
      "Atom atomic num: 7, name: , idx: 9, aromatic: False, chiral: True with bonds:\n",
      "bond order: 1, chiral: False to atom atomic num: 6, name: , idx: 4, aromatic: False, chiral: True\n",
      "bond order: 1, chiral: False to atom atomic num: 6, name: , idx: 10, aromatic: False, chiral: True\n",
      "bond order: 1, chiral: False to atom atomic num: 16, name: , idx: 30, aromatic: False, chiral: False\n",
      "\n",
      "Warning (not error because allow_undefined_stereo=True): OEMol has unspecified stereochemistry. oemol.GetTitle(): \n",
      "Problematic atoms are:\n",
      "Atom atomic num: 7, name: , idx: 9, aromatic: False, chiral: True with bonds:\n",
      "bond order: 1, chiral: False to atom atomic num: 6, name: , idx: 4, aromatic: False, chiral: True\n",
      "bond order: 1, chiral: False to atom atomic num: 6, name: , idx: 10, aromatic: False, chiral: True\n",
      "bond order: 1, chiral: False to atom atomic num: 16, name: , idx: 30, aromatic: False, chiral: False\n",
      "\n",
      " 92%|███████████████████████████████████████▋   | 47/51 [20:07<06:04, 91.23s/it]Warning (not error because allow_undefined_stereo=True): OEMol has unspecified stereochemistry. oemol.GetTitle(): \n",
      "Problematic atoms are:\n",
      "Atom atomic num: 7, name: , idx: 4, aromatic: False, chiral: True with bonds:\n",
      "bond order: 1, chiral: False to atom atomic num: 16, name: , idx: 1, aromatic: False, chiral: False\n",
      "bond order: 1, chiral: False to atom atomic num: 6, name: , idx: 28, aromatic: False, chiral: False\n",
      "bond order: 1, chiral: False to atom atomic num: 6, name: , idx: 5, aromatic: False, chiral: False\n",
      "\n",
      "Warning (not error because allow_undefined_stereo=True): OEMol has unspecified stereochemistry. oemol.GetTitle(): \n",
      "Problematic atoms are:\n",
      "Atom atomic num: 7, name: , idx: 4, aromatic: False, chiral: True with bonds:\n",
      "bond order: 1, chiral: False to atom atomic num: 16, name: , idx: 1, aromatic: False, chiral: False\n",
      "bond order: 1, chiral: False to atom atomic num: 6, name: , idx: 28, aromatic: False, chiral: False\n",
      "bond order: 1, chiral: False to atom atomic num: 6, name: , idx: 5, aromatic: False, chiral: False\n",
      "\n",
      " 98%|██████████████████████████████████████████▏| 50/51 [22:19<01:02, 62.61s/it]Warning (not error because allow_undefined_stereo=True): OEMol has unspecified stereochemistry. oemol.GetTitle(): \n",
      "Problematic atoms are:\n",
      "Atom atomic num: 7, name: , idx: 20, aromatic: False, chiral: True with bonds:\n",
      "bond order: 1, chiral: False to atom atomic num: 6, name: , idx: 19, aromatic: False, chiral: False\n",
      "bond order: 1, chiral: False to atom atomic num: 6, name: , idx: 21, aromatic: True, chiral: False\n",
      "bond order: 1, chiral: False to atom atomic num: 6, name: , idx: 31, aromatic: False, chiral: True\n",
      "\n",
      "Warning (not error because allow_undefined_stereo=True): OEMol has unspecified stereochemistry. oemol.GetTitle(): \n",
      "Problematic atoms are:\n",
      "Atom atomic num: 7, name: , idx: 20, aromatic: False, chiral: True with bonds:\n",
      "bond order: 1, chiral: False to atom atomic num: 6, name: , idx: 19, aromatic: False, chiral: False\n",
      "bond order: 1, chiral: False to atom atomic num: 6, name: , idx: 21, aromatic: True, chiral: False\n",
      "bond order: 1, chiral: False to atom atomic num: 6, name: , idx: 31, aromatic: False, chiral: True\n",
      "\n",
      "100%|███████████████████████████████████████████| 51/51 [23:28<00:00, 27.62s/it]\n"
     ]
    }
   ],
   "source": [
    "topologies = []\n",
    "failed_smiles = []\n",
    "smiles_pattern = \"SMILES '([A-Za-z0-9=\\(\\)\\[\\]]+)'\"\n",
    "for model in tqdm.tqdm(models):\n",
    "    try:\n",
    "        topologies.append(model.to_topology())\n",
    "    except ValueError as e:\n",
    "        if \"No registered toolkits can provide the capability\" in str(e):\n",
    "            smiles = re.search(smiles_pattern, str(e)).group(1)\n",
    "            failed_smiles.append(smiles)"
   ]
  },
  {
   "cell_type": "code",
   "execution_count": 9,
   "id": "c1bdc9f8",
   "metadata": {},
   "outputs": [
    {
     "data": {
      "text/plain": [
       "0"
      ]
     },
     "execution_count": 9,
     "metadata": {},
     "output_type": "execute_result"
    }
   ],
   "source": [
    "len(failed_smiles)"
   ]
  },
  {
   "cell_type": "code",
   "execution_count": 10,
   "id": "e81dc68d",
   "metadata": {},
   "outputs": [],
   "source": [
    "topology_file = \"openff_topologies_v0.10.pkl\"\n",
    "with open(topology_file, \"wb\") as f:\n",
    "    pickle.dump(topologies, f)\n",
    "# with open(topology_file, \"rb\") as f:\n",
    "#     topologies = pickle.load(f)"
   ]
  },
  {
   "cell_type": "code",
   "execution_count": 14,
   "id": "64e7deb7",
   "metadata": {},
   "outputs": [],
   "source": [
    "force_field = ForceField(\"openff-2.0.0.offxml\")"
   ]
  },
  {
   "cell_type": "code",
   "execution_count": 15,
   "id": "8f2cee6a",
   "metadata": {},
   "outputs": [
    {
     "name": "stderr",
     "output_type": "stream",
     "text": [
      " 51%|█████████████████████▉                     | 26/51 [01:22<01:32,  3.69s/it]Warning (not error because allow_undefined_stereo=True): OEMol has unspecified stereochemistry. oemol.GetTitle(): \n",
      "Problematic atoms are:\n",
      "Atom atomic num: 7, name: N1x, idx: 4, aromatic: False, chiral: True with bonds:\n",
      "bond order: 1, chiral: False to atom atomic num: 6, name: C2x, idx: 3, aromatic: False, chiral: False\n",
      "bond order: 1, chiral: False to atom atomic num: 6, name: C3x, idx: 5, aromatic: True, chiral: False\n",
      "bond order: 1, chiral: False to atom atomic num: 6, name: C9x, idx: 15, aromatic: False, chiral: False\n",
      "\n",
      " 67%|████████████████████████████▋              | 34/51 [01:44<00:47,  2.80s/it]Warning (not error because allow_undefined_stereo=True): OEMol has unspecified stereochemistry. oemol.GetTitle(): \n",
      "Problematic atoms are:\n",
      "Atom atomic num: 7, name: N2x, idx: 7, aromatic: False, chiral: True with bonds:\n",
      "bond order: 1, chiral: False to atom atomic num: 6, name: C6x, idx: 6, aromatic: True, chiral: False\n",
      "bond order: 1, chiral: False to atom atomic num: 6, name: C24x, idx: 31, aromatic: False, chiral: True\n",
      "bond order: 1, chiral: False to atom atomic num: 6, name: C7x, idx: 8, aromatic: False, chiral: False\n",
      "\n",
      " 75%|████████████████████████████████           | 38/51 [01:54<00:28,  2.16s/it]Warning (not error because allow_undefined_stereo=True): OEMol has unspecified stereochemistry. oemol.GetTitle(): \n",
      "Problematic atoms are:\n",
      "Atom atomic num: 7, name: N1x, idx: 10, aromatic: False, chiral: True with bonds:\n",
      "bond order: 1, chiral: False to atom atomic num: 6, name: C8x, idx: 9, aromatic: True, chiral: False\n",
      "bond order: 1, chiral: False to atom atomic num: 6, name: C13x, idx: 17, aromatic: False, chiral: False\n",
      "bond order: 1, chiral: False to atom atomic num: 6, name: C9x, idx: 11, aromatic: False, chiral: False\n",
      "\n",
      " 84%|████████████████████████████████████▎      | 43/51 [02:06<00:21,  2.63s/it]Warning (not error because allow_undefined_stereo=True): OEMol has unspecified stereochemistry. oemol.GetTitle(): \n",
      "Problematic atoms are:\n",
      "Atom atomic num: 7, name: N2x, idx: 4, aromatic: False, chiral: True with bonds:\n",
      "bond order: 1, chiral: False to atom atomic num: 6, name: C3x, idx: 3, aromatic: True, chiral: False\n",
      "bond order: 1, chiral: False to atom atomic num: 6, name: C18x, idx: 26, aromatic: False, chiral: True\n",
      "bond order: 1, chiral: False to atom atomic num: 6, name: C4x, idx: 5, aromatic: False, chiral: False\n",
      "\n",
      " 88%|█████████████████████████████████████▉     | 45/51 [02:15<00:20,  3.42s/it]Warning (not error because allow_undefined_stereo=True): OEMol has unspecified stereochemistry. oemol.GetTitle(): \n",
      "Problematic atoms are:\n",
      "Atom atomic num: 7, name: N2x, idx: 9, aromatic: False, chiral: True with bonds:\n",
      "bond order: 1, chiral: False to atom atomic num: 6, name: C5x, idx: 4, aromatic: False, chiral: True\n",
      "bond order: 1, chiral: False to atom atomic num: 6, name: C7x, idx: 10, aromatic: False, chiral: True\n",
      "bond order: 1, chiral: False to atom atomic num: 16, name: S1x, idx: 30, aromatic: False, chiral: False\n",
      "\n",
      " 92%|███████████████████████████████████████▋   | 47/51 [03:23<01:04, 16.13s/it]Warning (not error because allow_undefined_stereo=True): OEMol has unspecified stereochemistry. oemol.GetTitle(): \n",
      "Problematic atoms are:\n",
      "Atom atomic num: 7, name: N1x, idx: 4, aromatic: False, chiral: True with bonds:\n",
      "bond order: 1, chiral: False to atom atomic num: 16, name: S1x, idx: 1, aromatic: False, chiral: False\n",
      "bond order: 1, chiral: False to atom atomic num: 6, name: C19x, idx: 28, aromatic: False, chiral: False\n",
      "bond order: 1, chiral: False to atom atomic num: 6, name: C2x, idx: 5, aromatic: False, chiral: False\n",
      "\n",
      " 98%|██████████████████████████████████████████▏| 50/51 [03:41<00:09,  9.65s/it]Warning (not error because allow_undefined_stereo=True): OEMol has unspecified stereochemistry. oemol.GetTitle(): \n",
      "Problematic atoms are:\n",
      "Atom atomic num: 7, name: N5x, idx: 20, aromatic: False, chiral: True with bonds:\n",
      "bond order: 1, chiral: False to atom atomic num: 6, name: C13x, idx: 19, aromatic: False, chiral: False\n",
      "bond order: 1, chiral: False to atom atomic num: 6, name: C14x, idx: 21, aromatic: True, chiral: False\n",
      "bond order: 1, chiral: False to atom atomic num: 6, name: C20x, idx: 31, aromatic: False, chiral: True\n",
      "\n",
      "100%|███████████████████████████████████████████| 51/51 [03:49<00:00,  4.49s/it]\n"
     ]
    }
   ],
   "source": [
    "interchanges = [\n",
    "    Interchange.from_smirnoff(force_field, topology)\n",
    "    for topology in tqdm.tqdm(topologies)\n",
    "]\n",
    "\n",
    "interchange_systems = [\n",
    "    ichange.to_openmm(combine_nonbonded_forces=True)\n",
    "    for ichange in interchanges\n",
    "]"
   ]
  },
  {
   "cell_type": "code",
   "execution_count": 17,
   "id": "1fda15f7",
   "metadata": {
    "scrolled": true
   },
   "outputs": [],
   "source": [
    "# toolkit_systems = [\n",
    "#     force_field.create_openmm_system(topology, use_interchange=False)\n",
    "#     for topology in tqdm.tqdm(topologies)\n",
    "# ]"
   ]
  },
  {
   "cell_type": "code",
   "execution_count": 18,
   "id": "85b80b0f",
   "metadata": {},
   "outputs": [],
   "source": [
    "def get_charges(\n",
    "    system,\n",
    "    model_index: int = 0,\n",
    "    version: str = \"interchange\",\n",
    ") -> pd.DataFrame:\n",
    "    force = [\n",
    "        force for force in system.getForces()\n",
    "        if \"NonbondedForce\" in str(type(force))\n",
    "    ][0]\n",
    "    \n",
    "    name = models[model_index].name\n",
    "    data = {\"particle_index\": [], \"charge\": []}\n",
    "    for i in range(force.getNumParticles()):\n",
    "        charge, *_ = force.getParticleParameters(i)\n",
    "        data[\"particle_index\"].append(i)\n",
    "        data[\"charge\"].append(charge._value)\n",
    "    \n",
    "    df = pd.DataFrame(data)\n",
    "    df[\"name\"] = name\n",
    "    df[\"version\"] = version\n",
    "    return df"
   ]
  },
  {
   "cell_type": "code",
   "execution_count": 20,
   "id": "2032dff4",
   "metadata": {},
   "outputs": [
    {
     "name": "stderr",
     "output_type": "stream",
     "text": [
      "\n",
      "  0%|                                                    | 0/51 [00:00<?, ?it/s]\u001b[A\n",
      " 37%|███████████████▋                          | 19/51 [00:00<00:00, 186.85it/s]\u001b[A\n",
      "100%|██████████████████████████████████████████| 51/51 [00:00<00:00, 199.85it/s]\u001b[A\n"
     ]
    }
   ],
   "source": [
    "all_charge_dfs = []\n",
    "\n",
    "for i, (ichange) in tqdm.tqdm(\n",
    "    list(enumerate((interchange_systems)))\n",
    "):\n",
    "    model = models[i]\n",
    "    \n",
    "    name = model.name\n",
    "    ixml = openmm.XmlSerializer.serialize(ichange)\n",
    "#     txml = openmm.XmlSerializer.serialize(toolkit)\n",
    "    \n",
    "    ichange_name = f\"interchange-{openff.interchange.__version__}\"\n",
    "#     toolkit_name = f\"toolkit-{openff.toolkit.__version__}\"\n",
    "    ifile = f\"xmls/{name}_{ichange_name}.xml\"\n",
    "#     tfile = f\"xmls/{name}_{toolkit_name}.xml\"\n",
    "    \n",
    "    with open(ifile, \"w\") as f:\n",
    "        f.write(ixml)\n",
    "#     with open(tfile, \"w\") as f:\n",
    "#         f.write(txml)\n",
    "        \n",
    "    idf = get_charges(ichange, model_index=i, version=ichange_name)\n",
    "#     tdf = get_charges(toolkit, model_index=i, version=toolkit_name)\n",
    "    \n",
    "    model_df = copy.deepcopy(idf)\n",
    "    model_df[\"version\"] = \"original_topology_v0.10\"\n",
    "    model_df[\"charge\"] = [\n",
    "        charge\n",
    "        for molecule in topologies[i].topology_molecules\n",
    "        for charge in np.array(molecule.reference_molecule.partial_charges)\n",
    "    ]\n",
    "    \n",
    "#     topology2 = model.to_topology()\n",
    "#     model_df2 = pd.DataFrame(tdf)\n",
    "#     model_df2[\"version\"] = \"new_topology\"\n",
    "#     model_df2[\"charge\"] = [\n",
    "#         charge._value\n",
    "#         for molecule in topologies[i].topology_molecules\n",
    "#         for charge in molecule.partial_charges\n",
    "#     ]\n",
    "    \n",
    "    \n",
    "    all_charge_dfs.extend(\n",
    "        [idf, model_df,\n",
    "#          model_df2,\n",
    "    ])\n",
    "\n",
    "charge_df = pd.concat(all_charge_dfs)"
   ]
  },
  {
   "cell_type": "code",
   "execution_count": 21,
   "id": "2dd2861f",
   "metadata": {},
   "outputs": [
    {
     "data": {
      "text/plain": [
       "array(['interchange-v0.1.4', 'original_topology_v0.10'], dtype=object)"
      ]
     },
     "execution_count": 21,
     "metadata": {},
     "output_type": "execute_result"
    }
   ],
   "source": [
    "charge_df.version.unique()"
   ]
  },
  {
   "cell_type": "code",
   "execution_count": 25,
   "id": "a47969dc",
   "metadata": {
    "scrolled": true
   },
   "outputs": [],
   "source": [
    "charge_df.to_csv(\"charges_v010.csv\")"
   ]
  },
  {
   "cell_type": "code",
   "execution_count": null,
   "id": "eff4b311",
   "metadata": {},
   "outputs": [],
   "source": []
  }
 ],
 "metadata": {
  "kernelspec": {
   "display_name": "Python (interchange-regression-testing)",
   "language": "python",
   "name": "interchange-regression-testing"
  },
  "language_info": {
   "codemirror_mode": {
    "name": "ipython",
    "version": 3
   },
   "file_extension": ".py",
   "mimetype": "text/x-python",
   "name": "python",
   "nbconvert_exporter": "python",
   "pygments_lexer": "ipython3",
   "version": "3.9.13"
  }
 },
 "nbformat": 4,
 "nbformat_minor": 5
}
