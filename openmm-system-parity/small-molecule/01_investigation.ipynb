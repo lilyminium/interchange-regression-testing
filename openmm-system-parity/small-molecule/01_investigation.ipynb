{
 "cells": [
  {
   "cell_type": "code",
   "execution_count": 44,
   "id": "098a0adc",
   "metadata": {},
   "outputs": [],
   "source": [
    "import copy\n",
    "import pickle\n",
    "import re\n",
    "from typing import List\n",
    "import tqdm\n",
    "\n",
    "import numpy as np"
   ]
  },
  {
   "cell_type": "code",
   "execution_count": 20,
   "id": "482642f2",
   "metadata": {},
   "outputs": [],
   "source": [
    "import openff.interchange\n",
    "import openff.toolkit\n",
    "\n",
    "from openff.interchange.components.interchange import Interchange\n",
    "from openff.toolkit.topology import Topology\n",
    "from openff.toolkit.typing.engines.smirnoff import ForceField\n",
    "\n",
    "import openmm\n",
    "import pandas as pd"
   ]
  },
  {
   "cell_type": "code",
   "execution_count": 3,
   "id": "40a56333",
   "metadata": {},
   "outputs": [
    {
     "name": "stdout",
     "output_type": "stream",
     "text": [
      "v0.2.0-alpha.5\n"
     ]
    }
   ],
   "source": [
    "print(openff.interchange.__version__)"
   ]
  },
  {
   "cell_type": "code",
   "execution_count": 4,
   "id": "4f4b1213",
   "metadata": {},
   "outputs": [
    {
     "name": "stdout",
     "output_type": "stream",
     "text": [
      "0.10.1+102.g57a442b5\n"
     ]
    }
   ],
   "source": [
    "print(openff.toolkit.__version__)"
   ]
  },
  {
   "cell_type": "code",
   "execution_count": 5,
   "id": "ac2fb050",
   "metadata": {},
   "outputs": [],
   "source": [
    "from interchange_regression_utilities.models import (\n",
    "    ComparisonSettings,\n",
    "    ExpectedValueChange,\n",
    "    model_from_file,\n",
    "    TopologyDefinition,\n",
    ")"
   ]
  },
  {
   "cell_type": "code",
   "execution_count": 6,
   "id": "77c12777",
   "metadata": {},
   "outputs": [],
   "source": [
    "models = model_from_file(List[TopologyDefinition], \"input-topologies.json\")"
   ]
  },
  {
   "cell_type": "code",
   "execution_count": 10,
   "id": "a10eb625",
   "metadata": {},
   "outputs": [
    {
     "name": "stderr",
     "output_type": "stream",
     "text": [
      " 51%|█████████████████████▉                     | 26/51 [08:11<10:04, 24.20s/it]Warning (not error because allow_undefined_stereo=True): OEMol has unspecified stereochemistry. oemol.GetTitle(): \n",
      "Problematic atoms are:\n",
      "Atom atomic num: 7, name: , idx: 4, aromatic: False, chiral: True with bonds:\n",
      "bond order: 1, chiral: False to atom atomic num: 6, name: , idx: 3, aromatic: False, chiral: False\n",
      "bond order: 1, chiral: False to atom atomic num: 6, name: , idx: 5, aromatic: True, chiral: False\n",
      "bond order: 1, chiral: False to atom atomic num: 6, name: , idx: 15, aromatic: False, chiral: False\n",
      "\n",
      "Warning (not error because allow_undefined_stereo=True): OEMol has unspecified stereochemistry. oemol.GetTitle(): \n",
      "Problematic atoms are:\n",
      "Atom atomic num: 7, name: , idx: 4, aromatic: False, chiral: True with bonds:\n",
      "bond order: 1, chiral: False to atom atomic num: 6, name: , idx: 3, aromatic: False, chiral: False\n",
      "bond order: 1, chiral: False to atom atomic num: 6, name: , idx: 5, aromatic: True, chiral: False\n",
      "bond order: 1, chiral: False to atom atomic num: 6, name: , idx: 15, aromatic: False, chiral: False\n",
      "\n",
      " 67%|████████████████████████████▋              | 34/51 [10:08<03:51, 13.64s/it]Warning (not error because allow_undefined_stereo=True): OEMol has unspecified stereochemistry. oemol.GetTitle(): \n",
      "Problematic atoms are:\n",
      "Atom atomic num: 7, name: , idx: 7, aromatic: False, chiral: True with bonds:\n",
      "bond order: 1, chiral: False to atom atomic num: 6, name: , idx: 6, aromatic: True, chiral: False\n",
      "bond order: 1, chiral: False to atom atomic num: 6, name: , idx: 31, aromatic: False, chiral: True\n",
      "bond order: 1, chiral: False to atom atomic num: 6, name: , idx: 8, aromatic: False, chiral: False\n",
      "\n",
      "Warning (not error because allow_undefined_stereo=True): OEMol has unspecified stereochemistry. oemol.GetTitle(): \n",
      "Problematic atoms are:\n",
      "Atom atomic num: 7, name: , idx: 7, aromatic: False, chiral: True with bonds:\n",
      "bond order: 1, chiral: False to atom atomic num: 6, name: , idx: 6, aromatic: True, chiral: False\n",
      "bond order: 1, chiral: False to atom atomic num: 6, name: , idx: 31, aromatic: False, chiral: True\n",
      "bond order: 1, chiral: False to atom atomic num: 6, name: , idx: 8, aromatic: False, chiral: False\n",
      "\n",
      " 75%|████████████████████████████████           | 38/51 [11:21<02:37, 12.12s/it]Warning (not error because allow_undefined_stereo=True): OEMol has unspecified stereochemistry. oemol.GetTitle(): \n",
      "Problematic atoms are:\n",
      "Atom atomic num: 7, name: , idx: 10, aromatic: False, chiral: True with bonds:\n",
      "bond order: 1, chiral: False to atom atomic num: 6, name: , idx: 9, aromatic: True, chiral: False\n",
      "bond order: 1, chiral: False to atom atomic num: 6, name: , idx: 17, aromatic: False, chiral: False\n",
      "bond order: 1, chiral: False to atom atomic num: 6, name: , idx: 11, aromatic: False, chiral: False\n",
      "\n",
      "Warning (not error because allow_undefined_stereo=True): OEMol has unspecified stereochemistry. oemol.GetTitle(): \n",
      "Problematic atoms are:\n",
      "Atom atomic num: 7, name: , idx: 10, aromatic: False, chiral: True with bonds:\n",
      "bond order: 1, chiral: False to atom atomic num: 6, name: , idx: 9, aromatic: True, chiral: False\n",
      "bond order: 1, chiral: False to atom atomic num: 6, name: , idx: 17, aromatic: False, chiral: False\n",
      "bond order: 1, chiral: False to atom atomic num: 6, name: , idx: 11, aromatic: False, chiral: False\n",
      "\n",
      " 84%|████████████████████████████████████▎      | 43/51 [13:03<03:00, 22.53s/it]Warning (not error because allow_undefined_stereo=True): OEMol has unspecified stereochemistry. oemol.GetTitle(): \n",
      "Problematic atoms are:\n",
      "Atom atomic num: 7, name: , idx: 4, aromatic: False, chiral: True with bonds:\n",
      "bond order: 1, chiral: False to atom atomic num: 6, name: , idx: 3, aromatic: True, chiral: False\n",
      "bond order: 1, chiral: False to atom atomic num: 6, name: , idx: 26, aromatic: False, chiral: True\n",
      "bond order: 1, chiral: False to atom atomic num: 6, name: , idx: 5, aromatic: False, chiral: False\n",
      "\n",
      "Warning (not error because allow_undefined_stereo=True): OEMol has unspecified stereochemistry. oemol.GetTitle(): \n",
      "Problematic atoms are:\n",
      "Atom atomic num: 7, name: , idx: 4, aromatic: False, chiral: True with bonds:\n",
      "bond order: 1, chiral: False to atom atomic num: 6, name: , idx: 3, aromatic: True, chiral: False\n",
      "bond order: 1, chiral: False to atom atomic num: 6, name: , idx: 26, aromatic: False, chiral: True\n",
      "bond order: 1, chiral: False to atom atomic num: 6, name: , idx: 5, aromatic: False, chiral: False\n",
      "\n",
      " 88%|█████████████████████████████████████▉     | 45/51 [14:09<02:43, 27.25s/it]Warning (not error because allow_undefined_stereo=True): OEMol has unspecified stereochemistry. oemol.GetTitle(): \n",
      "Problematic atoms are:\n",
      "Atom atomic num: 7, name: , idx: 9, aromatic: False, chiral: True with bonds:\n",
      "bond order: 1, chiral: False to atom atomic num: 6, name: , idx: 4, aromatic: False, chiral: True\n",
      "bond order: 1, chiral: False to atom atomic num: 6, name: , idx: 10, aromatic: False, chiral: True\n",
      "bond order: 1, chiral: False to atom atomic num: 16, name: , idx: 30, aromatic: False, chiral: False\n",
      "\n",
      "Warning (not error because allow_undefined_stereo=True): OEMol has unspecified stereochemistry. oemol.GetTitle(): \n",
      "Problematic atoms are:\n",
      "Atom atomic num: 7, name: , idx: 9, aromatic: False, chiral: True with bonds:\n",
      "bond order: 1, chiral: False to atom atomic num: 6, name: , idx: 4, aromatic: False, chiral: True\n",
      "bond order: 1, chiral: False to atom atomic num: 6, name: , idx: 10, aromatic: False, chiral: True\n",
      "bond order: 1, chiral: False to atom atomic num: 16, name: , idx: 30, aromatic: False, chiral: False\n",
      "\n",
      " 92%|███████████████████████████████████████▋   | 47/51 [20:08<06:00, 90.03s/it]Warning (not error because allow_undefined_stereo=True): OEMol has unspecified stereochemistry. oemol.GetTitle(): \n",
      "Problematic atoms are:\n",
      "Atom atomic num: 7, name: , idx: 4, aromatic: False, chiral: True with bonds:\n",
      "bond order: 1, chiral: False to atom atomic num: 16, name: , idx: 1, aromatic: False, chiral: False\n",
      "bond order: 1, chiral: False to atom atomic num: 6, name: , idx: 28, aromatic: False, chiral: False\n",
      "bond order: 1, chiral: False to atom atomic num: 6, name: , idx: 5, aromatic: False, chiral: False\n",
      "\n",
      "Warning (not error because allow_undefined_stereo=True): OEMol has unspecified stereochemistry. oemol.GetTitle(): \n",
      "Problematic atoms are:\n",
      "Atom atomic num: 7, name: , idx: 4, aromatic: False, chiral: True with bonds:\n",
      "bond order: 1, chiral: False to atom atomic num: 16, name: , idx: 1, aromatic: False, chiral: False\n",
      "bond order: 1, chiral: False to atom atomic num: 6, name: , idx: 28, aromatic: False, chiral: False\n",
      "bond order: 1, chiral: False to atom atomic num: 6, name: , idx: 5, aromatic: False, chiral: False\n",
      "\n",
      " 98%|██████████████████████████████████████████▏| 50/51 [22:08<00:59, 59.18s/it]Warning (not error because allow_undefined_stereo=True): OEMol has unspecified stereochemistry. oemol.GetTitle(): \n",
      "Problematic atoms are:\n",
      "Atom atomic num: 7, name: , idx: 20, aromatic: False, chiral: True with bonds:\n",
      "bond order: 1, chiral: False to atom atomic num: 6, name: , idx: 19, aromatic: False, chiral: False\n",
      "bond order: 1, chiral: False to atom atomic num: 6, name: , idx: 21, aromatic: True, chiral: False\n",
      "bond order: 1, chiral: False to atom atomic num: 6, name: , idx: 31, aromatic: False, chiral: True\n",
      "\n",
      "Warning (not error because allow_undefined_stereo=True): OEMol has unspecified stereochemistry. oemol.GetTitle(): \n",
      "Problematic atoms are:\n",
      "Atom atomic num: 7, name: , idx: 20, aromatic: False, chiral: True with bonds:\n",
      "bond order: 1, chiral: False to atom atomic num: 6, name: , idx: 19, aromatic: False, chiral: False\n",
      "bond order: 1, chiral: False to atom atomic num: 6, name: , idx: 21, aromatic: True, chiral: False\n",
      "bond order: 1, chiral: False to atom atomic num: 6, name: , idx: 31, aromatic: False, chiral: True\n",
      "\n",
      "100%|███████████████████████████████████████████| 51/51 [23:08<00:00, 27.22s/it]\n"
     ]
    }
   ],
   "source": [
    "topologies = []\n",
    "failed_smiles = []\n",
    "smiles_pattern = \"SMILES '([A-Za-z0-9=\\(\\)\\[\\]]+)'\"\n",
    "for model in tqdm.tqdm(models):\n",
    "    try:\n",
    "        topologies.append(model.to_topology())\n",
    "    except ValueError as e:\n",
    "        if \"No registered toolkits can provide the capability\" in str(e):\n",
    "            smiles = re.search(smiles_pattern, str(e)).group(1)\n",
    "            failed_smiles.append(smiles)"
   ]
  },
  {
   "cell_type": "code",
   "execution_count": 15,
   "id": "b8443f87",
   "metadata": {},
   "outputs": [
    {
     "data": {
      "text/plain": [
       "0"
      ]
     },
     "execution_count": 15,
     "metadata": {},
     "output_type": "execute_result"
    }
   ],
   "source": [
    "len(failed_smiles)"
   ]
  },
  {
   "cell_type": "code",
   "execution_count": 16,
   "id": "8232b799",
   "metadata": {},
   "outputs": [],
   "source": [
    "topology_file = \"openff_topologies.pkl\"\n",
    "with open(topology_file, \"wb\") as f:\n",
    "    pickle.dump(topologies, f)\n",
    "# with open(topology_file, \"rb\") as f:\n",
    "#     topologies = pickle.load(f)"
   ]
  },
  {
   "cell_type": "code",
   "execution_count": 17,
   "id": "2897796a",
   "metadata": {},
   "outputs": [],
   "source": [
    "force_field = ForceField(\"openff-2.0.0.offxml\")"
   ]
  },
  {
   "cell_type": "code",
   "execution_count": 18,
   "id": "e564cacf",
   "metadata": {},
   "outputs": [
    {
     "name": "stderr",
     "output_type": "stream",
     "text": [
      "100%|███████████████████████████████████████████| 51/51 [00:09<00:00,  5.20it/s]\n"
     ]
    }
   ],
   "source": [
    "interchanges = [\n",
    "    Interchange.from_smirnoff(force_field, topology)\n",
    "    for topology in tqdm.tqdm(topologies)\n",
    "]\n",
    "\n",
    "interchange_systems = [\n",
    "    ichange.to_openmm(combine_nonbonded_forces=True)\n",
    "    for ichange in interchanges\n",
    "]"
   ]
  },
  {
   "cell_type": "code",
   "execution_count": 19,
   "id": "4e9727c3",
   "metadata": {
    "scrolled": true
   },
   "outputs": [
    {
     "name": "stderr",
     "output_type": "stream",
     "text": [
      " 51%|█████████████████████▉                     | 26/51 [08:27<10:39, 25.57s/it]Warning (not error because allow_undefined_stereo=True): OEMol has unspecified stereochemistry. oemol.GetTitle(): \n",
      "Problematic atoms are:\n",
      "Atom atomic num: 7, name: , idx: 4, aromatic: False, chiral: True with bonds:\n",
      "bond order: 1, chiral: False to atom atomic num: 6, name: , idx: 3, aromatic: False, chiral: False\n",
      "bond order: 1, chiral: False to atom atomic num: 6, name: , idx: 5, aromatic: True, chiral: False\n",
      "bond order: 1, chiral: False to atom atomic num: 6, name: , idx: 15, aromatic: False, chiral: False\n",
      "\n",
      " 67%|████████████████████████████▋              | 34/51 [10:30<04:03, 14.34s/it]Warning (not error because allow_undefined_stereo=True): OEMol has unspecified stereochemistry. oemol.GetTitle(): \n",
      "Problematic atoms are:\n",
      "Atom atomic num: 7, name: , idx: 7, aromatic: False, chiral: True with bonds:\n",
      "bond order: 1, chiral: False to atom atomic num: 6, name: , idx: 6, aromatic: True, chiral: False\n",
      "bond order: 1, chiral: False to atom atomic num: 6, name: , idx: 31, aromatic: False, chiral: True\n",
      "bond order: 1, chiral: False to atom atomic num: 6, name: , idx: 8, aromatic: False, chiral: False\n",
      "\n",
      " 75%|████████████████████████████████           | 38/51 [11:47<02:45, 12.72s/it]Warning (not error because allow_undefined_stereo=True): OEMol has unspecified stereochemistry. oemol.GetTitle(): \n",
      "Problematic atoms are:\n",
      "Atom atomic num: 7, name: , idx: 10, aromatic: False, chiral: True with bonds:\n",
      "bond order: 1, chiral: False to atom atomic num: 6, name: , idx: 9, aromatic: True, chiral: False\n",
      "bond order: 1, chiral: False to atom atomic num: 6, name: , idx: 17, aromatic: False, chiral: False\n",
      "bond order: 1, chiral: False to atom atomic num: 6, name: , idx: 11, aromatic: False, chiral: False\n",
      "\n",
      " 84%|████████████████████████████████████▎      | 43/51 [13:35<03:09, 23.65s/it]Warning (not error because allow_undefined_stereo=True): OEMol has unspecified stereochemistry. oemol.GetTitle(): \n",
      "Problematic atoms are:\n",
      "Atom atomic num: 7, name: , idx: 4, aromatic: False, chiral: True with bonds:\n",
      "bond order: 1, chiral: False to atom atomic num: 6, name: , idx: 3, aromatic: True, chiral: False\n",
      "bond order: 1, chiral: False to atom atomic num: 6, name: , idx: 26, aromatic: False, chiral: True\n",
      "bond order: 1, chiral: False to atom atomic num: 6, name: , idx: 5, aromatic: False, chiral: False\n",
      "\n",
      " 88%|█████████████████████████████████████▉     | 45/51 [14:46<02:52, 28.72s/it]Warning (not error because allow_undefined_stereo=True): OEMol has unspecified stereochemistry. oemol.GetTitle(): \n",
      "Problematic atoms are:\n",
      "Atom atomic num: 7, name: , idx: 9, aromatic: False, chiral: True with bonds:\n",
      "bond order: 1, chiral: False to atom atomic num: 6, name: , idx: 4, aromatic: False, chiral: True\n",
      "bond order: 1, chiral: False to atom atomic num: 6, name: , idx: 10, aromatic: False, chiral: True\n",
      "bond order: 1, chiral: False to atom atomic num: 16, name: , idx: 30, aromatic: False, chiral: False\n",
      "\n",
      " 92%|███████████████████████████████████████▋   | 47/51 [20:58<06:14, 93.61s/it]Warning (not error because allow_undefined_stereo=True): OEMol has unspecified stereochemistry. oemol.GetTitle(): \n",
      "Problematic atoms are:\n",
      "Atom atomic num: 7, name: , idx: 4, aromatic: False, chiral: True with bonds:\n",
      "bond order: 1, chiral: False to atom atomic num: 16, name: , idx: 1, aromatic: False, chiral: False\n",
      "bond order: 1, chiral: False to atom atomic num: 6, name: , idx: 28, aromatic: False, chiral: False\n",
      "bond order: 1, chiral: False to atom atomic num: 6, name: , idx: 5, aromatic: False, chiral: False\n",
      "\n",
      " 98%|██████████████████████████████████████████▏| 50/51 [23:05<01:02, 62.20s/it]Warning (not error because allow_undefined_stereo=True): OEMol has unspecified stereochemistry. oemol.GetTitle(): \n",
      "Problematic atoms are:\n",
      "Atom atomic num: 7, name: , idx: 20, aromatic: False, chiral: True with bonds:\n",
      "bond order: 1, chiral: False to atom atomic num: 6, name: , idx: 19, aromatic: False, chiral: False\n",
      "bond order: 1, chiral: False to atom atomic num: 6, name: , idx: 21, aromatic: True, chiral: False\n",
      "bond order: 1, chiral: False to atom atomic num: 6, name: , idx: 31, aromatic: False, chiral: True\n",
      "\n",
      "100%|███████████████████████████████████████████| 51/51 [24:06<00:00, 28.36s/it]\n"
     ]
    }
   ],
   "source": [
    "toolkit_systems = [\n",
    "    force_field.create_openmm_system(topology, use_interchange=False)\n",
    "    for topology in tqdm.tqdm(topologies)\n",
    "]"
   ]
  },
  {
   "cell_type": "code",
   "execution_count": 24,
   "id": "69563629",
   "metadata": {},
   "outputs": [],
   "source": [
    "def get_charges(\n",
    "    system,\n",
    "    model_index: int = 0,\n",
    "    version: str = \"interchange\",\n",
    ") -> pd.DataFrame:\n",
    "    force = [\n",
    "        force for force in system.getForces()\n",
    "        if \"NonbondedForce\" in str(type(force))\n",
    "    ][0]\n",
    "    \n",
    "    name = models[model_index].name\n",
    "    data = {\"particle_index\": [], \"charge\": []}\n",
    "    for i in range(force.getNumParticles()):\n",
    "        charge, *_ = force.getParticleParameters(i)\n",
    "        data[\"particle_index\"].append(i)\n",
    "        data[\"charge\"].append(charge._value)\n",
    "    \n",
    "    df = pd.DataFrame(data)\n",
    "    df[\"name\"] = name\n",
    "    df[\"version\"] = version\n",
    "    return df"
   ]
  },
  {
   "cell_type": "code",
   "execution_count": 54,
   "id": "900051a9",
   "metadata": {},
   "outputs": [
    {
     "name": "stderr",
     "output_type": "stream",
     "text": [
      "  0%|                                                    | 0/51 [00:00<?, ?it/s]/Users/lily/pydev/toolkit/openff/toolkit/topology/topology.py:51: TopologyDeprecationWarning: Topology.topology_molecules is deprecated. Use Topology.molecules instead.\n",
      "  warnings.warn(\n",
      "/var/folders/rv/j6lbln6j0kvb5svxj8wflc400000gn/T/ipykernel_40801/602003120.py:30: UnitStrippedWarning: The unit of the quantity is stripped when downcasting to ndarray.\n",
      "  for charge in np.array(molecule.partial_charges)\n",
      "/Users/lily/pydev/toolkit/openff/toolkit/topology/topology.py:51: TopologyDeprecationWarning: Topology.topology_molecules is deprecated. Use Topology.molecules instead.\n",
      "  warnings.warn(\n",
      "/var/folders/rv/j6lbln6j0kvb5svxj8wflc400000gn/T/ipykernel_40801/602003120.py:30: UnitStrippedWarning: The unit of the quantity is stripped when downcasting to ndarray.\n",
      "  for charge in np.array(molecule.partial_charges)\n",
      "/Users/lily/pydev/toolkit/openff/toolkit/topology/topology.py:51: TopologyDeprecationWarning: Topology.topology_molecules is deprecated. Use Topology.molecules instead.\n",
      "  warnings.warn(\n",
      "/var/folders/rv/j6lbln6j0kvb5svxj8wflc400000gn/T/ipykernel_40801/602003120.py:30: UnitStrippedWarning: The unit of the quantity is stripped when downcasting to ndarray.\n",
      "  for charge in np.array(molecule.partial_charges)\n",
      "/Users/lily/pydev/toolkit/openff/toolkit/topology/topology.py:51: TopologyDeprecationWarning: Topology.topology_molecules is deprecated. Use Topology.molecules instead.\n",
      "  warnings.warn(\n",
      "/var/folders/rv/j6lbln6j0kvb5svxj8wflc400000gn/T/ipykernel_40801/602003120.py:30: UnitStrippedWarning: The unit of the quantity is stripped when downcasting to ndarray.\n",
      "  for charge in np.array(molecule.partial_charges)\n",
      "/Users/lily/pydev/toolkit/openff/toolkit/topology/topology.py:51: TopologyDeprecationWarning: Topology.topology_molecules is deprecated. Use Topology.molecules instead.\n",
      "  warnings.warn(\n",
      "/var/folders/rv/j6lbln6j0kvb5svxj8wflc400000gn/T/ipykernel_40801/602003120.py:30: UnitStrippedWarning: The unit of the quantity is stripped when downcasting to ndarray.\n",
      "  for charge in np.array(molecule.partial_charges)\n",
      " 10%|████▎                                       | 5/51 [00:00<00:01, 45.52it/s]/Users/lily/pydev/toolkit/openff/toolkit/topology/topology.py:51: TopologyDeprecationWarning: Topology.topology_molecules is deprecated. Use Topology.molecules instead.\n",
      "  warnings.warn(\n",
      "/var/folders/rv/j6lbln6j0kvb5svxj8wflc400000gn/T/ipykernel_40801/602003120.py:30: UnitStrippedWarning: The unit of the quantity is stripped when downcasting to ndarray.\n",
      "  for charge in np.array(molecule.partial_charges)\n",
      "/Users/lily/pydev/toolkit/openff/toolkit/topology/topology.py:51: TopologyDeprecationWarning: Topology.topology_molecules is deprecated. Use Topology.molecules instead.\n",
      "  warnings.warn(\n",
      "/var/folders/rv/j6lbln6j0kvb5svxj8wflc400000gn/T/ipykernel_40801/602003120.py:30: UnitStrippedWarning: The unit of the quantity is stripped when downcasting to ndarray.\n",
      "  for charge in np.array(molecule.partial_charges)\n",
      "/Users/lily/pydev/toolkit/openff/toolkit/topology/topology.py:51: TopologyDeprecationWarning: Topology.topology_molecules is deprecated. Use Topology.molecules instead.\n",
      "  warnings.warn(\n",
      "/var/folders/rv/j6lbln6j0kvb5svxj8wflc400000gn/T/ipykernel_40801/602003120.py:30: UnitStrippedWarning: The unit of the quantity is stripped when downcasting to ndarray.\n",
      "  for charge in np.array(molecule.partial_charges)\n",
      "/Users/lily/pydev/toolkit/openff/toolkit/topology/topology.py:51: TopologyDeprecationWarning: Topology.topology_molecules is deprecated. Use Topology.molecules instead.\n",
      "  warnings.warn(\n",
      "/var/folders/rv/j6lbln6j0kvb5svxj8wflc400000gn/T/ipykernel_40801/602003120.py:30: UnitStrippedWarning: The unit of the quantity is stripped when downcasting to ndarray.\n",
      "  for charge in np.array(molecule.partial_charges)\n",
      "/Users/lily/pydev/toolkit/openff/toolkit/topology/topology.py:51: TopologyDeprecationWarning: Topology.topology_molecules is deprecated. Use Topology.molecules instead.\n",
      "  warnings.warn(\n",
      "/var/folders/rv/j6lbln6j0kvb5svxj8wflc400000gn/T/ipykernel_40801/602003120.py:30: UnitStrippedWarning: The unit of the quantity is stripped when downcasting to ndarray.\n",
      "  for charge in np.array(molecule.partial_charges)\n",
      "/Users/lily/pydev/toolkit/openff/toolkit/topology/topology.py:51: TopologyDeprecationWarning: Topology.topology_molecules is deprecated. Use Topology.molecules instead.\n",
      "  warnings.warn(\n",
      "/var/folders/rv/j6lbln6j0kvb5svxj8wflc400000gn/T/ipykernel_40801/602003120.py:30: UnitStrippedWarning: The unit of the quantity is stripped when downcasting to ndarray.\n",
      "  for charge in np.array(molecule.partial_charges)\n",
      "/Users/lily/pydev/toolkit/openff/toolkit/topology/topology.py:51: TopologyDeprecationWarning: Topology.topology_molecules is deprecated. Use Topology.molecules instead.\n",
      "  warnings.warn(\n",
      "/var/folders/rv/j6lbln6j0kvb5svxj8wflc400000gn/T/ipykernel_40801/602003120.py:30: UnitStrippedWarning: The unit of the quantity is stripped when downcasting to ndarray.\n",
      "  for charge in np.array(molecule.partial_charges)\n",
      "/Users/lily/pydev/toolkit/openff/toolkit/topology/topology.py:51: TopologyDeprecationWarning: Topology.topology_molecules is deprecated. Use Topology.molecules instead.\n",
      "  warnings.warn(\n",
      "/var/folders/rv/j6lbln6j0kvb5svxj8wflc400000gn/T/ipykernel_40801/602003120.py:30: UnitStrippedWarning: The unit of the quantity is stripped when downcasting to ndarray.\n",
      "  for charge in np.array(molecule.partial_charges)\n",
      "/Users/lily/pydev/toolkit/openff/toolkit/topology/topology.py:51: TopologyDeprecationWarning: Topology.topology_molecules is deprecated. Use Topology.molecules instead.\n",
      "  warnings.warn(\n",
      "/var/folders/rv/j6lbln6j0kvb5svxj8wflc400000gn/T/ipykernel_40801/602003120.py:30: UnitStrippedWarning: The unit of the quantity is stripped when downcasting to ndarray.\n",
      "  for charge in np.array(molecule.partial_charges)\n",
      "/Users/lily/pydev/toolkit/openff/toolkit/topology/topology.py:51: TopologyDeprecationWarning: Topology.topology_molecules is deprecated. Use Topology.molecules instead.\n",
      "  warnings.warn(\n",
      "/var/folders/rv/j6lbln6j0kvb5svxj8wflc400000gn/T/ipykernel_40801/602003120.py:30: UnitStrippedWarning: The unit of the quantity is stripped when downcasting to ndarray.\n",
      "  for charge in np.array(molecule.partial_charges)\n",
      " 29%|████████████▋                              | 15/51 [00:00<00:00, 73.25it/s]/Users/lily/pydev/toolkit/openff/toolkit/topology/topology.py:51: TopologyDeprecationWarning: Topology.topology_molecules is deprecated. Use Topology.molecules instead.\n",
      "  warnings.warn(\n",
      "/var/folders/rv/j6lbln6j0kvb5svxj8wflc400000gn/T/ipykernel_40801/602003120.py:30: UnitStrippedWarning: The unit of the quantity is stripped when downcasting to ndarray.\n",
      "  for charge in np.array(molecule.partial_charges)\n",
      "/Users/lily/pydev/toolkit/openff/toolkit/topology/topology.py:51: TopologyDeprecationWarning: Topology.topology_molecules is deprecated. Use Topology.molecules instead.\n",
      "  warnings.warn(\n",
      "/var/folders/rv/j6lbln6j0kvb5svxj8wflc400000gn/T/ipykernel_40801/602003120.py:30: UnitStrippedWarning: The unit of the quantity is stripped when downcasting to ndarray.\n",
      "  for charge in np.array(molecule.partial_charges)\n",
      "/Users/lily/pydev/toolkit/openff/toolkit/topology/topology.py:51: TopologyDeprecationWarning: Topology.topology_molecules is deprecated. Use Topology.molecules instead.\n",
      "  warnings.warn(\n",
      "/var/folders/rv/j6lbln6j0kvb5svxj8wflc400000gn/T/ipykernel_40801/602003120.py:30: UnitStrippedWarning: The unit of the quantity is stripped when downcasting to ndarray.\n",
      "  for charge in np.array(molecule.partial_charges)\n",
      "/Users/lily/pydev/toolkit/openff/toolkit/topology/topology.py:51: TopologyDeprecationWarning: Topology.topology_molecules is deprecated. Use Topology.molecules instead.\n",
      "  warnings.warn(\n",
      "/var/folders/rv/j6lbln6j0kvb5svxj8wflc400000gn/T/ipykernel_40801/602003120.py:30: UnitStrippedWarning: The unit of the quantity is stripped when downcasting to ndarray.\n",
      "  for charge in np.array(molecule.partial_charges)\n",
      "/Users/lily/pydev/toolkit/openff/toolkit/topology/topology.py:51: TopologyDeprecationWarning: Topology.topology_molecules is deprecated. Use Topology.molecules instead.\n",
      "  warnings.warn(\n",
      "/var/folders/rv/j6lbln6j0kvb5svxj8wflc400000gn/T/ipykernel_40801/602003120.py:30: UnitStrippedWarning: The unit of the quantity is stripped when downcasting to ndarray.\n",
      "  for charge in np.array(molecule.partial_charges)\n"
     ]
    },
    {
     "name": "stderr",
     "output_type": "stream",
     "text": [
      "/Users/lily/pydev/toolkit/openff/toolkit/topology/topology.py:51: TopologyDeprecationWarning: Topology.topology_molecules is deprecated. Use Topology.molecules instead.\n",
      "  warnings.warn(\n",
      "/var/folders/rv/j6lbln6j0kvb5svxj8wflc400000gn/T/ipykernel_40801/602003120.py:30: UnitStrippedWarning: The unit of the quantity is stripped when downcasting to ndarray.\n",
      "  for charge in np.array(molecule.partial_charges)\n",
      "/Users/lily/pydev/toolkit/openff/toolkit/topology/topology.py:51: TopologyDeprecationWarning: Topology.topology_molecules is deprecated. Use Topology.molecules instead.\n",
      "  warnings.warn(\n",
      "/var/folders/rv/j6lbln6j0kvb5svxj8wflc400000gn/T/ipykernel_40801/602003120.py:30: UnitStrippedWarning: The unit of the quantity is stripped when downcasting to ndarray.\n",
      "  for charge in np.array(molecule.partial_charges)\n",
      "/Users/lily/pydev/toolkit/openff/toolkit/topology/topology.py:51: TopologyDeprecationWarning: Topology.topology_molecules is deprecated. Use Topology.molecules instead.\n",
      "  warnings.warn(\n",
      "/var/folders/rv/j6lbln6j0kvb5svxj8wflc400000gn/T/ipykernel_40801/602003120.py:30: UnitStrippedWarning: The unit of the quantity is stripped when downcasting to ndarray.\n",
      "  for charge in np.array(molecule.partial_charges)\n",
      "/Users/lily/pydev/toolkit/openff/toolkit/topology/topology.py:51: TopologyDeprecationWarning: Topology.topology_molecules is deprecated. Use Topology.molecules instead.\n",
      "  warnings.warn(\n",
      "/var/folders/rv/j6lbln6j0kvb5svxj8wflc400000gn/T/ipykernel_40801/602003120.py:30: UnitStrippedWarning: The unit of the quantity is stripped when downcasting to ndarray.\n",
      "  for charge in np.array(molecule.partial_charges)\n",
      "/Users/lily/pydev/toolkit/openff/toolkit/topology/topology.py:51: TopologyDeprecationWarning: Topology.topology_molecules is deprecated. Use Topology.molecules instead.\n",
      "  warnings.warn(\n",
      "/var/folders/rv/j6lbln6j0kvb5svxj8wflc400000gn/T/ipykernel_40801/602003120.py:30: UnitStrippedWarning: The unit of the quantity is stripped when downcasting to ndarray.\n",
      "  for charge in np.array(molecule.partial_charges)\n",
      " 49%|█████████████████████                      | 25/51 [00:00<00:00, 84.17it/s]/Users/lily/pydev/toolkit/openff/toolkit/topology/topology.py:51: TopologyDeprecationWarning: Topology.topology_molecules is deprecated. Use Topology.molecules instead.\n",
      "  warnings.warn(\n",
      "/var/folders/rv/j6lbln6j0kvb5svxj8wflc400000gn/T/ipykernel_40801/602003120.py:30: UnitStrippedWarning: The unit of the quantity is stripped when downcasting to ndarray.\n",
      "  for charge in np.array(molecule.partial_charges)\n",
      "/Users/lily/pydev/toolkit/openff/toolkit/topology/topology.py:51: TopologyDeprecationWarning: Topology.topology_molecules is deprecated. Use Topology.molecules instead.\n",
      "  warnings.warn(\n",
      "/var/folders/rv/j6lbln6j0kvb5svxj8wflc400000gn/T/ipykernel_40801/602003120.py:30: UnitStrippedWarning: The unit of the quantity is stripped when downcasting to ndarray.\n",
      "  for charge in np.array(molecule.partial_charges)\n",
      "/Users/lily/pydev/toolkit/openff/toolkit/topology/topology.py:51: TopologyDeprecationWarning: Topology.topology_molecules is deprecated. Use Topology.molecules instead.\n",
      "  warnings.warn(\n",
      "/var/folders/rv/j6lbln6j0kvb5svxj8wflc400000gn/T/ipykernel_40801/602003120.py:30: UnitStrippedWarning: The unit of the quantity is stripped when downcasting to ndarray.\n",
      "  for charge in np.array(molecule.partial_charges)\n",
      "/Users/lily/pydev/toolkit/openff/toolkit/topology/topology.py:51: TopologyDeprecationWarning: Topology.topology_molecules is deprecated. Use Topology.molecules instead.\n",
      "  warnings.warn(\n",
      "/var/folders/rv/j6lbln6j0kvb5svxj8wflc400000gn/T/ipykernel_40801/602003120.py:30: UnitStrippedWarning: The unit of the quantity is stripped when downcasting to ndarray.\n",
      "  for charge in np.array(molecule.partial_charges)\n",
      "/Users/lily/pydev/toolkit/openff/toolkit/topology/topology.py:51: TopologyDeprecationWarning: Topology.topology_molecules is deprecated. Use Topology.molecules instead.\n",
      "  warnings.warn(\n",
      "/var/folders/rv/j6lbln6j0kvb5svxj8wflc400000gn/T/ipykernel_40801/602003120.py:30: UnitStrippedWarning: The unit of the quantity is stripped when downcasting to ndarray.\n",
      "  for charge in np.array(molecule.partial_charges)\n",
      "/Users/lily/pydev/toolkit/openff/toolkit/topology/topology.py:51: TopologyDeprecationWarning: Topology.topology_molecules is deprecated. Use Topology.molecules instead.\n",
      "  warnings.warn(\n",
      "/var/folders/rv/j6lbln6j0kvb5svxj8wflc400000gn/T/ipykernel_40801/602003120.py:30: UnitStrippedWarning: The unit of the quantity is stripped when downcasting to ndarray.\n",
      "  for charge in np.array(molecule.partial_charges)\n",
      "/Users/lily/pydev/toolkit/openff/toolkit/topology/topology.py:51: TopologyDeprecationWarning: Topology.topology_molecules is deprecated. Use Topology.molecules instead.\n",
      "  warnings.warn(\n",
      "/var/folders/rv/j6lbln6j0kvb5svxj8wflc400000gn/T/ipykernel_40801/602003120.py:30: UnitStrippedWarning: The unit of the quantity is stripped when downcasting to ndarray.\n",
      "  for charge in np.array(molecule.partial_charges)\n",
      "/Users/lily/pydev/toolkit/openff/toolkit/topology/topology.py:51: TopologyDeprecationWarning: Topology.topology_molecules is deprecated. Use Topology.molecules instead.\n",
      "  warnings.warn(\n",
      "/var/folders/rv/j6lbln6j0kvb5svxj8wflc400000gn/T/ipykernel_40801/602003120.py:30: UnitStrippedWarning: The unit of the quantity is stripped when downcasting to ndarray.\n",
      "  for charge in np.array(molecule.partial_charges)\n",
      "/Users/lily/pydev/toolkit/openff/toolkit/topology/topology.py:51: TopologyDeprecationWarning: Topology.topology_molecules is deprecated. Use Topology.molecules instead.\n",
      "  warnings.warn(\n",
      "/var/folders/rv/j6lbln6j0kvb5svxj8wflc400000gn/T/ipykernel_40801/602003120.py:30: UnitStrippedWarning: The unit of the quantity is stripped when downcasting to ndarray.\n",
      "  for charge in np.array(molecule.partial_charges)\n",
      "/Users/lily/pydev/toolkit/openff/toolkit/topology/topology.py:51: TopologyDeprecationWarning: Topology.topology_molecules is deprecated. Use Topology.molecules instead.\n",
      "  warnings.warn(\n",
      "/var/folders/rv/j6lbln6j0kvb5svxj8wflc400000gn/T/ipykernel_40801/602003120.py:30: UnitStrippedWarning: The unit of the quantity is stripped when downcasting to ndarray.\n",
      "  for charge in np.array(molecule.partial_charges)\n",
      "/Users/lily/pydev/toolkit/openff/toolkit/topology/topology.py:51: TopologyDeprecationWarning: Topology.topology_molecules is deprecated. Use Topology.molecules instead.\n",
      "  warnings.warn(\n",
      "/var/folders/rv/j6lbln6j0kvb5svxj8wflc400000gn/T/ipykernel_40801/602003120.py:30: UnitStrippedWarning: The unit of the quantity is stripped when downcasting to ndarray.\n",
      "  for charge in np.array(molecule.partial_charges)\n",
      "/Users/lily/pydev/toolkit/openff/toolkit/topology/topology.py:51: TopologyDeprecationWarning: Topology.topology_molecules is deprecated. Use Topology.molecules instead.\n",
      "  warnings.warn(\n",
      "/var/folders/rv/j6lbln6j0kvb5svxj8wflc400000gn/T/ipykernel_40801/602003120.py:30: UnitStrippedWarning: The unit of the quantity is stripped when downcasting to ndarray.\n",
      "  for charge in np.array(molecule.partial_charges)\n",
      " 73%|███████████████████████████████▏           | 37/51 [00:00<00:00, 95.83it/s]/Users/lily/pydev/toolkit/openff/toolkit/topology/topology.py:51: TopologyDeprecationWarning: Topology.topology_molecules is deprecated. Use Topology.molecules instead.\n",
      "  warnings.warn(\n",
      "/var/folders/rv/j6lbln6j0kvb5svxj8wflc400000gn/T/ipykernel_40801/602003120.py:30: UnitStrippedWarning: The unit of the quantity is stripped when downcasting to ndarray.\n",
      "  for charge in np.array(molecule.partial_charges)\n",
      "/Users/lily/pydev/toolkit/openff/toolkit/topology/topology.py:51: TopologyDeprecationWarning: Topology.topology_molecules is deprecated. Use Topology.molecules instead.\n",
      "  warnings.warn(\n",
      "/var/folders/rv/j6lbln6j0kvb5svxj8wflc400000gn/T/ipykernel_40801/602003120.py:30: UnitStrippedWarning: The unit of the quantity is stripped when downcasting to ndarray.\n",
      "  for charge in np.array(molecule.partial_charges)\n",
      "/Users/lily/pydev/toolkit/openff/toolkit/topology/topology.py:51: TopologyDeprecationWarning: Topology.topology_molecules is deprecated. Use Topology.molecules instead.\n",
      "  warnings.warn(\n",
      "/var/folders/rv/j6lbln6j0kvb5svxj8wflc400000gn/T/ipykernel_40801/602003120.py:30: UnitStrippedWarning: The unit of the quantity is stripped when downcasting to ndarray.\n",
      "  for charge in np.array(molecule.partial_charges)\n",
      "/Users/lily/pydev/toolkit/openff/toolkit/topology/topology.py:51: TopologyDeprecationWarning: Topology.topology_molecules is deprecated. Use Topology.molecules instead.\n",
      "  warnings.warn(\n",
      "/var/folders/rv/j6lbln6j0kvb5svxj8wflc400000gn/T/ipykernel_40801/602003120.py:30: UnitStrippedWarning: The unit of the quantity is stripped when downcasting to ndarray.\n",
      "  for charge in np.array(molecule.partial_charges)\n",
      "/Users/lily/pydev/toolkit/openff/toolkit/topology/topology.py:51: TopologyDeprecationWarning: Topology.topology_molecules is deprecated. Use Topology.molecules instead.\n",
      "  warnings.warn(\n",
      "/var/folders/rv/j6lbln6j0kvb5svxj8wflc400000gn/T/ipykernel_40801/602003120.py:30: UnitStrippedWarning: The unit of the quantity is stripped when downcasting to ndarray.\n",
      "  for charge in np.array(molecule.partial_charges)\n",
      "/Users/lily/pydev/toolkit/openff/toolkit/topology/topology.py:51: TopologyDeprecationWarning: Topology.topology_molecules is deprecated. Use Topology.molecules instead.\n",
      "  warnings.warn(\n",
      "/var/folders/rv/j6lbln6j0kvb5svxj8wflc400000gn/T/ipykernel_40801/602003120.py:30: UnitStrippedWarning: The unit of the quantity is stripped when downcasting to ndarray.\n",
      "  for charge in np.array(molecule.partial_charges)\n"
     ]
    },
    {
     "name": "stderr",
     "output_type": "stream",
     "text": [
      "/Users/lily/pydev/toolkit/openff/toolkit/topology/topology.py:51: TopologyDeprecationWarning: Topology.topology_molecules is deprecated. Use Topology.molecules instead.\n",
      "  warnings.warn(\n",
      "/var/folders/rv/j6lbln6j0kvb5svxj8wflc400000gn/T/ipykernel_40801/602003120.py:30: UnitStrippedWarning: The unit of the quantity is stripped when downcasting to ndarray.\n",
      "  for charge in np.array(molecule.partial_charges)\n",
      "/Users/lily/pydev/toolkit/openff/toolkit/topology/topology.py:51: TopologyDeprecationWarning: Topology.topology_molecules is deprecated. Use Topology.molecules instead.\n",
      "  warnings.warn(\n",
      "/var/folders/rv/j6lbln6j0kvb5svxj8wflc400000gn/T/ipykernel_40801/602003120.py:30: UnitStrippedWarning: The unit of the quantity is stripped when downcasting to ndarray.\n",
      "  for charge in np.array(molecule.partial_charges)\n",
      "/Users/lily/pydev/toolkit/openff/toolkit/topology/topology.py:51: TopologyDeprecationWarning: Topology.topology_molecules is deprecated. Use Topology.molecules instead.\n",
      "  warnings.warn(\n",
      "/var/folders/rv/j6lbln6j0kvb5svxj8wflc400000gn/T/ipykernel_40801/602003120.py:30: UnitStrippedWarning: The unit of the quantity is stripped when downcasting to ndarray.\n",
      "  for charge in np.array(molecule.partial_charges)\n",
      "/Users/lily/pydev/toolkit/openff/toolkit/topology/topology.py:51: TopologyDeprecationWarning: Topology.topology_molecules is deprecated. Use Topology.molecules instead.\n",
      "  warnings.warn(\n",
      "/var/folders/rv/j6lbln6j0kvb5svxj8wflc400000gn/T/ipykernel_40801/602003120.py:30: UnitStrippedWarning: The unit of the quantity is stripped when downcasting to ndarray.\n",
      "  for charge in np.array(molecule.partial_charges)\n",
      " 92%|███████████████████████████████████████▋   | 47/51 [00:00<00:00, 92.00it/s]/Users/lily/pydev/toolkit/openff/toolkit/topology/topology.py:51: TopologyDeprecationWarning: Topology.topology_molecules is deprecated. Use Topology.molecules instead.\n",
      "  warnings.warn(\n",
      "/var/folders/rv/j6lbln6j0kvb5svxj8wflc400000gn/T/ipykernel_40801/602003120.py:30: UnitStrippedWarning: The unit of the quantity is stripped when downcasting to ndarray.\n",
      "  for charge in np.array(molecule.partial_charges)\n",
      "/Users/lily/pydev/toolkit/openff/toolkit/topology/topology.py:51: TopologyDeprecationWarning: Topology.topology_molecules is deprecated. Use Topology.molecules instead.\n",
      "  warnings.warn(\n",
      "/var/folders/rv/j6lbln6j0kvb5svxj8wflc400000gn/T/ipykernel_40801/602003120.py:30: UnitStrippedWarning: The unit of the quantity is stripped when downcasting to ndarray.\n",
      "  for charge in np.array(molecule.partial_charges)\n",
      "/Users/lily/pydev/toolkit/openff/toolkit/topology/topology.py:51: TopologyDeprecationWarning: Topology.topology_molecules is deprecated. Use Topology.molecules instead.\n",
      "  warnings.warn(\n",
      "/var/folders/rv/j6lbln6j0kvb5svxj8wflc400000gn/T/ipykernel_40801/602003120.py:30: UnitStrippedWarning: The unit of the quantity is stripped when downcasting to ndarray.\n",
      "  for charge in np.array(molecule.partial_charges)\n",
      "/Users/lily/pydev/toolkit/openff/toolkit/topology/topology.py:51: TopologyDeprecationWarning: Topology.topology_molecules is deprecated. Use Topology.molecules instead.\n",
      "  warnings.warn(\n",
      "/var/folders/rv/j6lbln6j0kvb5svxj8wflc400000gn/T/ipykernel_40801/602003120.py:30: UnitStrippedWarning: The unit of the quantity is stripped when downcasting to ndarray.\n",
      "  for charge in np.array(molecule.partial_charges)\n",
      "100%|███████████████████████████████████████████| 51/51 [00:00<00:00, 87.18it/s]\n"
     ]
    }
   ],
   "source": [
    "all_charge_dfs = []\n",
    "\n",
    "for i, (ichange, toolkit) in tqdm.tqdm(\n",
    "    list(enumerate(zip(interchange_systems, toolkit_systems)))\n",
    "):\n",
    "    model = models[i]\n",
    "    \n",
    "    name = model.name\n",
    "    ixml = openmm.XmlSerializer.serialize(ichange)\n",
    "    txml = openmm.XmlSerializer.serialize(toolkit)\n",
    "    \n",
    "    ichange_name = f\"interchange-{openff.interchange.__version__}\"\n",
    "    toolkit_name = f\"toolkit-{openff.toolkit.__version__}\"\n",
    "    ifile = f\"xmls/{name}_{ichange_name}.xml\"\n",
    "    tfile = f\"xmls/{name}_{toolkit_name}.xml\"\n",
    "    \n",
    "    with open(ifile, \"w\") as f:\n",
    "        f.write(ixml)\n",
    "    with open(tfile, \"w\") as f:\n",
    "        f.write(txml)\n",
    "        \n",
    "    idf = get_charges(ichange, model_index=i, version=ichange_name)\n",
    "    tdf = get_charges(toolkit, model_index=i, version=toolkit_name)\n",
    "    \n",
    "    model_df = copy.deepcopy(tdf)\n",
    "    model_df[\"version\"] = \"original_topology\"\n",
    "    model_df[\"charge\"] = [\n",
    "        charge\n",
    "        for molecule in topologies[i].topology_molecules\n",
    "        for charge in np.array(molecule.partial_charges)\n",
    "    ]\n",
    "    \n",
    "#     topology2 = model.to_topology()\n",
    "#     model_df2 = pd.DataFrame(tdf)\n",
    "#     model_df2[\"version\"] = \"new_topology\"\n",
    "#     model_df2[\"charge\"] = [\n",
    "#         charge._value\n",
    "#         for molecule in topologies[i].topology_molecules\n",
    "#         for charge in molecule.partial_charges\n",
    "#     ]\n",
    "    \n",
    "    \n",
    "    all_charge_dfs.extend(\n",
    "        [idf, tdf, model_df,\n",
    "#          model_df2,\n",
    "    ])\n",
    "\n",
    "charge_df = pd.concat(all_charge_dfs)"
   ]
  },
  {
   "cell_type": "code",
   "execution_count": 55,
   "id": "c770fb10",
   "metadata": {},
   "outputs": [
    {
     "data": {
      "text/plain": [
       "array(['interchange-v0.2.0-alpha.5', 'toolkit-0.10.1+102.g57a442b5',\n",
       "       'original_topology'], dtype=object)"
      ]
     },
     "execution_count": 55,
     "metadata": {},
     "output_type": "execute_result"
    }
   ],
   "source": [
    "charge_df.version.unique()"
   ]
  },
  {
   "cell_type": "code",
   "execution_count": 56,
   "id": "8a552c87",
   "metadata": {},
   "outputs": [],
   "source": [
    "ichange_df = charge_df[charge_df[\"version\"] == \"interchange-v0.2.0-alpha.5\"]\n",
    "toolkit_df = charge_df[charge_df[\"version\"] == \"toolkit-0.10.1+102.g57a442b5\"]\n",
    "topology_df = charge_df[charge_df[\"version\"] == \"original_topology\"]"
   ]
  },
  {
   "cell_type": "code",
   "execution_count": 50,
   "id": "077b4cde",
   "metadata": {},
   "outputs": [
    {
     "data": {
      "text/plain": [
       "0.0"
      ]
     },
     "execution_count": 50,
     "metadata": {},
     "output_type": "execute_result"
    }
   ],
   "source": [
    "max(ichange_df.charge - toolkit_df.charge)"
   ]
  },
  {
   "cell_type": "code",
   "execution_count": 52,
   "id": "a099759e",
   "metadata": {},
   "outputs": [
    {
     "data": {
      "text/plain": [
       "0.0"
      ]
     },
     "execution_count": 52,
     "metadata": {},
     "output_type": "execute_result"
    }
   ],
   "source": [
    "max(topology_df.charge - topology_df.charge)"
   ]
  },
  {
   "cell_type": "code",
   "execution_count": 68,
   "id": "3bf1ac62",
   "metadata": {
    "scrolled": true
   },
   "outputs": [],
   "source": [
    "charge_df.to_csv(\"charges_v011.csv\")"
   ]
  },
  {
   "cell_type": "code",
   "execution_count": 58,
   "id": "3ddda0d2",
   "metadata": {},
   "outputs": [],
   "source": [
    "older = pd.read_csv(\"charges_v010.csv\", index_col=0)"
   ]
  },
  {
   "cell_type": "code",
   "execution_count": 59,
   "id": "fdc0a140",
   "metadata": {},
   "outputs": [],
   "source": [
    "combined = pd.concat([charge_df, older])"
   ]
  },
  {
   "cell_type": "code",
   "execution_count": 60,
   "id": "c38fedec",
   "metadata": {},
   "outputs": [
    {
     "data": {
      "text/html": [
       "<div>\n",
       "<style scoped>\n",
       "    .dataframe tbody tr th:only-of-type {\n",
       "        vertical-align: middle;\n",
       "    }\n",
       "\n",
       "    .dataframe tbody tr th {\n",
       "        vertical-align: top;\n",
       "    }\n",
       "\n",
       "    .dataframe thead th {\n",
       "        text-align: right;\n",
       "    }\n",
       "</style>\n",
       "<table border=\"1\" class=\"dataframe\">\n",
       "  <thead>\n",
       "    <tr style=\"text-align: right;\">\n",
       "      <th></th>\n",
       "      <th>particle_index</th>\n",
       "      <th>charge</th>\n",
       "      <th>name</th>\n",
       "      <th>version</th>\n",
       "    </tr>\n",
       "  </thead>\n",
       "  <tbody>\n",
       "    <tr>\n",
       "      <th>0</th>\n",
       "      <td>0</td>\n",
       "      <td>-0.91150</td>\n",
       "      <td>0</td>\n",
       "      <td>interchange-v0.2.0-alpha.5</td>\n",
       "    </tr>\n",
       "    <tr>\n",
       "      <th>1</th>\n",
       "      <td>1</td>\n",
       "      <td>0.16355</td>\n",
       "      <td>0</td>\n",
       "      <td>interchange-v0.2.0-alpha.5</td>\n",
       "    </tr>\n",
       "    <tr>\n",
       "      <th>2</th>\n",
       "      <td>2</td>\n",
       "      <td>0.02260</td>\n",
       "      <td>0</td>\n",
       "      <td>interchange-v0.2.0-alpha.5</td>\n",
       "    </tr>\n",
       "    <tr>\n",
       "      <th>3</th>\n",
       "      <td>3</td>\n",
       "      <td>-0.08142</td>\n",
       "      <td>0</td>\n",
       "      <td>interchange-v0.2.0-alpha.5</td>\n",
       "    </tr>\n",
       "    <tr>\n",
       "      <th>4</th>\n",
       "      <td>4</td>\n",
       "      <td>-0.10215</td>\n",
       "      <td>0</td>\n",
       "      <td>interchange-v0.2.0-alpha.5</td>\n",
       "    </tr>\n",
       "    <tr>\n",
       "      <th>...</th>\n",
       "      <td>...</td>\n",
       "      <td>...</td>\n",
       "      <td>...</td>\n",
       "      <td>...</td>\n",
       "    </tr>\n",
       "    <tr>\n",
       "      <th>45</th>\n",
       "      <td>45</td>\n",
       "      <td>0.15917</td>\n",
       "      <td>50</td>\n",
       "      <td>original_topology_v0.10</td>\n",
       "    </tr>\n",
       "    <tr>\n",
       "      <th>46</th>\n",
       "      <td>46</td>\n",
       "      <td>0.15954</td>\n",
       "      <td>50</td>\n",
       "      <td>original_topology_v0.10</td>\n",
       "    </tr>\n",
       "    <tr>\n",
       "      <th>47</th>\n",
       "      <td>47</td>\n",
       "      <td>0.03068</td>\n",
       "      <td>50</td>\n",
       "      <td>original_topology_v0.10</td>\n",
       "    </tr>\n",
       "    <tr>\n",
       "      <th>48</th>\n",
       "      <td>48</td>\n",
       "      <td>0.07602</td>\n",
       "      <td>50</td>\n",
       "      <td>original_topology_v0.10</td>\n",
       "    </tr>\n",
       "    <tr>\n",
       "      <th>49</th>\n",
       "      <td>49</td>\n",
       "      <td>0.07602</td>\n",
       "      <td>50</td>\n",
       "      <td>original_topology_v0.10</td>\n",
       "    </tr>\n",
       "  </tbody>\n",
       "</table>\n",
       "<p>12120 rows × 4 columns</p>\n",
       "</div>"
      ],
      "text/plain": [
       "    particle_index   charge name                     version\n",
       "0                0 -0.91150    0  interchange-v0.2.0-alpha.5\n",
       "1                1  0.16355    0  interchange-v0.2.0-alpha.5\n",
       "2                2  0.02260    0  interchange-v0.2.0-alpha.5\n",
       "3                3 -0.08142    0  interchange-v0.2.0-alpha.5\n",
       "4                4 -0.10215    0  interchange-v0.2.0-alpha.5\n",
       "..             ...      ...  ...                         ...\n",
       "45              45  0.15917   50     original_topology_v0.10\n",
       "46              46  0.15954   50     original_topology_v0.10\n",
       "47              47  0.03068   50     original_topology_v0.10\n",
       "48              48  0.07602   50     original_topology_v0.10\n",
       "49              49  0.07602   50     original_topology_v0.10\n",
       "\n",
       "[12120 rows x 4 columns]"
      ]
     },
     "execution_count": 60,
     "metadata": {},
     "output_type": "execute_result"
    }
   ],
   "source": [
    "combined"
   ]
  },
  {
   "cell_type": "code",
   "execution_count": 61,
   "id": "ab5ad95b",
   "metadata": {},
   "outputs": [],
   "source": [
    "ichange_df = combined[combined[\"version\"] == \"interchange-v0.2.0-alpha.5\"]\n",
    "toolkit_df = combined[combined[\"version\"] == \"toolkit-0.10.1+102.g57a442b5\"]\n",
    "topology_df = combined[combined[\"version\"] == \"original_topology\"]\n",
    "old_ichange_df = combined[combined[\"version\"] == \"interchange-v0.1.4\"]\n",
    "old_topology_df = combined[combined[\"version\"] == \"original_topology_v0.10\"]"
   ]
  },
  {
   "cell_type": "code",
   "execution_count": 63,
   "id": "73794202",
   "metadata": {},
   "outputs": [
    {
     "data": {
      "text/plain": [
       "0.052609994395170334"
      ]
     },
     "execution_count": 63,
     "metadata": {},
     "output_type": "execute_result"
    }
   ],
   "source": [
    "max(ichange_df.charge.values - old_ichange_df.charge.values)"
   ]
  },
  {
   "cell_type": "code",
   "execution_count": 64,
   "id": "82ba1811",
   "metadata": {},
   "outputs": [
    {
     "data": {
      "text/plain": [
       "2.220446049250313e-16"
      ]
     },
     "execution_count": 64,
     "metadata": {},
     "output_type": "execute_result"
    }
   ],
   "source": [
    "max(topology_df.charge.values - old_topology_df.charge.values)"
   ]
  },
  {
   "cell_type": "code",
   "execution_count": 65,
   "id": "d2f5a88b",
   "metadata": {},
   "outputs": [
    {
     "data": {
      "text/plain": [
       "0.0"
      ]
     },
     "execution_count": 65,
     "metadata": {},
     "output_type": "execute_result"
    }
   ],
   "source": [
    "max(ichange_df.charge.values - toolkit_df.charge.values)"
   ]
  },
  {
   "cell_type": "code",
   "execution_count": 66,
   "id": "22dbf964",
   "metadata": {},
   "outputs": [
    {
     "data": {
      "text/plain": [
       "0.0"
      ]
     },
     "execution_count": 66,
     "metadata": {},
     "output_type": "execute_result"
    }
   ],
   "source": [
    "max(ichange_df.charge.values - topology_df.charge.values)"
   ]
  },
  {
   "cell_type": "code",
   "execution_count": 67,
   "id": "8ebfb257",
   "metadata": {},
   "outputs": [
    {
     "data": {
      "text/plain": [
       "2.220446049250313e-16"
      ]
     },
     "execution_count": 67,
     "metadata": {},
     "output_type": "execute_result"
    }
   ],
   "source": [
    "max(ichange_df.charge.values - old_topology_df.charge.values)"
   ]
  },
  {
   "cell_type": "code",
   "execution_count": null,
   "id": "3e9c7585",
   "metadata": {},
   "outputs": [],
   "source": []
  }
 ],
 "metadata": {
  "kernelspec": {
   "display_name": "Python (interchange-regression-testing)",
   "language": "python",
   "name": "interchange-regression-testing"
  },
  "language_info": {
   "codemirror_mode": {
    "name": "ipython",
    "version": 3
   },
   "file_extension": ".py",
   "mimetype": "text/x-python",
   "name": "python",
   "nbconvert_exporter": "python",
   "pygments_lexer": "ipython3",
   "version": "3.9.13"
  }
 },
 "nbformat": 4,
 "nbformat_minor": 5
}
