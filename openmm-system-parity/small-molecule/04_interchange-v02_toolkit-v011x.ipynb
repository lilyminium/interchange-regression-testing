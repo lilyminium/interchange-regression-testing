{
 "cells": [
  {
   "cell_type": "code",
   "execution_count": 1,
   "id": "93a7b663",
   "metadata": {},
   "outputs": [],
   "source": [
    "import copy\n",
    "import pickle\n",
    "import re\n",
    "from typing import List\n",
    "import tqdm\n",
    "\n",
    "import numpy as np"
   ]
  },
  {
   "cell_type": "code",
   "execution_count": 2,
   "id": "748c9a4d",
   "metadata": {},
   "outputs": [
    {
     "name": "stderr",
     "output_type": "stream",
     "text": [
      "Warning: Unable to load toolkit 'The RDKit'. \n",
      "Warning: Unable to load toolkit 'AmberTools'. \n"
     ]
    }
   ],
   "source": [
    "import openff.interchange\n",
    "import openff.toolkit\n",
    "\n",
    "from openff.interchange.components.interchange import Interchange\n",
    "from openff.toolkit.topology import Topology\n",
    "from openff.toolkit.typing.engines.smirnoff import ForceField\n",
    "\n",
    "import openmm\n",
    "import pandas as pd"
   ]
  },
  {
   "cell_type": "code",
   "execution_count": 3,
   "id": "af604c0a",
   "metadata": {},
   "outputs": [
    {
     "name": "stdout",
     "output_type": "stream",
     "text": [
      "v0.2.0-alpha.5\n"
     ]
    }
   ],
   "source": [
    "print(openff.interchange.__version__)"
   ]
  },
  {
   "cell_type": "code",
   "execution_count": 4,
   "id": "b919c212",
   "metadata": {},
   "outputs": [
    {
     "name": "stdout",
     "output_type": "stream",
     "text": [
      "0.10.1+102.gf264ffff\n"
     ]
    }
   ],
   "source": [
    "print(openff.toolkit.__version__)"
   ]
  },
  {
   "cell_type": "code",
   "execution_count": 5,
   "id": "5bb0a0bb",
   "metadata": {},
   "outputs": [
    {
     "data": {
      "text/plain": [
       "'toolkit-0.10.1+102.gf264ffff_interchange-v0.2.0-alpha.5'"
      ]
     },
     "execution_count": 5,
     "metadata": {},
     "output_type": "execute_result"
    }
   ],
   "source": [
    "ichange_name = f\"interchange-{openff.interchange.__version__}\"\n",
    "toolkit_name = f\"toolkit-{openff.toolkit.__version__}\"\n",
    "version_name = f\"{toolkit_name}_{ichange_name}\"\n",
    "version_name"
   ]
  },
  {
   "cell_type": "code",
   "execution_count": 6,
   "id": "ac2fb050",
   "metadata": {},
   "outputs": [],
   "source": [
    "from interchange_regression_utilities.models import (\n",
    "    ComparisonSettings,\n",
    "    ExpectedValueChange,\n",
    "    model_from_file,\n",
    "    TopologyDefinition,\n",
    ")"
   ]
  },
  {
   "cell_type": "code",
   "execution_count": 7,
   "id": "77c12777",
   "metadata": {},
   "outputs": [],
   "source": [
    "models = model_from_file(List[TopologyDefinition], \"input-topologies.json\")"
   ]
  },
  {
   "cell_type": "code",
   "execution_count": 8,
   "id": "4f1e9fd9",
   "metadata": {},
   "outputs": [
    {
     "name": "stderr",
     "output_type": "stream",
     "text": [
      " 51%|█████████████████████▉                     | 26/51 [08:32<10:41, 25.66s/it]Warning (not error because allow_undefined_stereo=True): OEMol has unspecified stereochemistry. oemol.GetTitle(): \n",
      "Problematic atoms are:\n",
      "Atom atomic num: 7, name: , idx: 4, aromatic: False, chiral: True with bonds:\n",
      "bond order: 1, chiral: False to atom atomic num: 6, name: , idx: 3, aromatic: False, chiral: False\n",
      "bond order: 1, chiral: False to atom atomic num: 6, name: , idx: 5, aromatic: True, chiral: False\n",
      "bond order: 1, chiral: False to atom atomic num: 6, name: , idx: 15, aromatic: False, chiral: False\n",
      "\n",
      "Warning (not error because allow_undefined_stereo=True): OEMol has unspecified stereochemistry. oemol.GetTitle(): \n",
      "Problematic atoms are:\n",
      "Atom atomic num: 7, name: , idx: 4, aromatic: False, chiral: True with bonds:\n",
      "bond order: 1, chiral: False to atom atomic num: 6, name: , idx: 3, aromatic: False, chiral: False\n",
      "bond order: 1, chiral: False to atom atomic num: 6, name: , idx: 5, aromatic: True, chiral: False\n",
      "bond order: 1, chiral: False to atom atomic num: 6, name: , idx: 15, aromatic: False, chiral: False\n",
      "\n",
      " 67%|████████████████████████████▋              | 34/51 [10:34<04:00, 14.17s/it]Warning (not error because allow_undefined_stereo=True): OEMol has unspecified stereochemistry. oemol.GetTitle(): \n",
      "Problematic atoms are:\n",
      "Atom atomic num: 7, name: , idx: 7, aromatic: False, chiral: True with bonds:\n",
      "bond order: 1, chiral: False to atom atomic num: 6, name: , idx: 6, aromatic: True, chiral: False\n",
      "bond order: 1, chiral: False to atom atomic num: 6, name: , idx: 31, aromatic: False, chiral: True\n",
      "bond order: 1, chiral: False to atom atomic num: 6, name: , idx: 8, aromatic: False, chiral: False\n",
      "\n",
      "Warning (not error because allow_undefined_stereo=True): OEMol has unspecified stereochemistry. oemol.GetTitle(): \n",
      "Problematic atoms are:\n",
      "Atom atomic num: 7, name: , idx: 7, aromatic: False, chiral: True with bonds:\n",
      "bond order: 1, chiral: False to atom atomic num: 6, name: , idx: 6, aromatic: True, chiral: False\n",
      "bond order: 1, chiral: False to atom atomic num: 6, name: , idx: 31, aromatic: False, chiral: True\n",
      "bond order: 1, chiral: False to atom atomic num: 6, name: , idx: 8, aromatic: False, chiral: False\n",
      "\n",
      " 75%|████████████████████████████████           | 38/51 [11:49<02:39, 12.30s/it]Warning (not error because allow_undefined_stereo=True): OEMol has unspecified stereochemistry. oemol.GetTitle(): \n",
      "Problematic atoms are:\n",
      "Atom atomic num: 7, name: , idx: 10, aromatic: False, chiral: True with bonds:\n",
      "bond order: 1, chiral: False to atom atomic num: 6, name: , idx: 9, aromatic: True, chiral: False\n",
      "bond order: 1, chiral: False to atom atomic num: 6, name: , idx: 17, aromatic: False, chiral: False\n",
      "bond order: 1, chiral: False to atom atomic num: 6, name: , idx: 11, aromatic: False, chiral: False\n",
      "\n",
      "Warning (not error because allow_undefined_stereo=True): OEMol has unspecified stereochemistry. oemol.GetTitle(): \n",
      "Problematic atoms are:\n",
      "Atom atomic num: 7, name: , idx: 10, aromatic: False, chiral: True with bonds:\n",
      "bond order: 1, chiral: False to atom atomic num: 6, name: , idx: 9, aromatic: True, chiral: False\n",
      "bond order: 1, chiral: False to atom atomic num: 6, name: , idx: 17, aromatic: False, chiral: False\n",
      "bond order: 1, chiral: False to atom atomic num: 6, name: , idx: 11, aromatic: False, chiral: False\n",
      "\n",
      " 84%|████████████████████████████████████▎      | 43/51 [13:33<03:05, 23.13s/it]Warning (not error because allow_undefined_stereo=True): OEMol has unspecified stereochemistry. oemol.GetTitle(): \n",
      "Problematic atoms are:\n",
      "Atom atomic num: 7, name: , idx: 4, aromatic: False, chiral: True with bonds:\n",
      "bond order: 1, chiral: False to atom atomic num: 6, name: , idx: 3, aromatic: True, chiral: False\n",
      "bond order: 1, chiral: False to atom atomic num: 6, name: , idx: 26, aromatic: False, chiral: True\n",
      "bond order: 1, chiral: False to atom atomic num: 6, name: , idx: 5, aromatic: False, chiral: False\n",
      "\n",
      "Warning (not error because allow_undefined_stereo=True): OEMol has unspecified stereochemistry. oemol.GetTitle(): \n",
      "Problematic atoms are:\n",
      "Atom atomic num: 7, name: , idx: 4, aromatic: False, chiral: True with bonds:\n",
      "bond order: 1, chiral: False to atom atomic num: 6, name: , idx: 3, aromatic: True, chiral: False\n",
      "bond order: 1, chiral: False to atom atomic num: 6, name: , idx: 26, aromatic: False, chiral: True\n",
      "bond order: 1, chiral: False to atom atomic num: 6, name: , idx: 5, aromatic: False, chiral: False\n",
      "\n",
      " 88%|█████████████████████████████████████▉     | 45/51 [14:44<02:51, 28.59s/it]Warning (not error because allow_undefined_stereo=True): OEMol has unspecified stereochemistry. oemol.GetTitle(): \n",
      "Problematic atoms are:\n",
      "Atom atomic num: 7, name: , idx: 9, aromatic: False, chiral: True with bonds:\n",
      "bond order: 1, chiral: False to atom atomic num: 6, name: , idx: 4, aromatic: False, chiral: True\n",
      "bond order: 1, chiral: False to atom atomic num: 6, name: , idx: 10, aromatic: False, chiral: True\n",
      "bond order: 1, chiral: False to atom atomic num: 16, name: , idx: 30, aromatic: False, chiral: False\n",
      "\n",
      "Warning (not error because allow_undefined_stereo=True): OEMol has unspecified stereochemistry. oemol.GetTitle(): \n",
      "Problematic atoms are:\n",
      "Atom atomic num: 7, name: , idx: 9, aromatic: False, chiral: True with bonds:\n",
      "bond order: 1, chiral: False to atom atomic num: 6, name: , idx: 4, aromatic: False, chiral: True\n",
      "bond order: 1, chiral: False to atom atomic num: 6, name: , idx: 10, aromatic: False, chiral: True\n",
      "bond order: 1, chiral: False to atom atomic num: 16, name: , idx: 30, aromatic: False, chiral: False\n",
      "\n",
      " 92%|███████████████████████████████████████▋   | 47/51 [20:58<06:15, 93.95s/it]Warning (not error because allow_undefined_stereo=True): OEMol has unspecified stereochemistry. oemol.GetTitle(): \n",
      "Problematic atoms are:\n",
      "Atom atomic num: 7, name: , idx: 4, aromatic: False, chiral: True with bonds:\n",
      "bond order: 1, chiral: False to atom atomic num: 16, name: , idx: 1, aromatic: False, chiral: False\n",
      "bond order: 1, chiral: False to atom atomic num: 6, name: , idx: 28, aromatic: False, chiral: False\n",
      "bond order: 1, chiral: False to atom atomic num: 6, name: , idx: 5, aromatic: False, chiral: False\n",
      "\n",
      "Warning (not error because allow_undefined_stereo=True): OEMol has unspecified stereochemistry. oemol.GetTitle(): \n",
      "Problematic atoms are:\n",
      "Atom atomic num: 7, name: , idx: 4, aromatic: False, chiral: True with bonds:\n",
      "bond order: 1, chiral: False to atom atomic num: 16, name: , idx: 1, aromatic: False, chiral: False\n",
      "bond order: 1, chiral: False to atom atomic num: 6, name: , idx: 28, aromatic: False, chiral: False\n",
      "bond order: 1, chiral: False to atom atomic num: 6, name: , idx: 5, aromatic: False, chiral: False\n",
      "\n",
      " 98%|██████████████████████████████████████████▏| 50/51 [23:10<01:03, 63.46s/it]Warning (not error because allow_undefined_stereo=True): OEMol has unspecified stereochemistry. oemol.GetTitle(): \n",
      "Problematic atoms are:\n",
      "Atom atomic num: 7, name: , idx: 20, aromatic: False, chiral: True with bonds:\n",
      "bond order: 1, chiral: False to atom atomic num: 6, name: , idx: 19, aromatic: False, chiral: False\n",
      "bond order: 1, chiral: False to atom atomic num: 6, name: , idx: 21, aromatic: True, chiral: False\n",
      "bond order: 1, chiral: False to atom atomic num: 6, name: , idx: 31, aromatic: False, chiral: True\n",
      "\n",
      "Warning (not error because allow_undefined_stereo=True): OEMol has unspecified stereochemistry. oemol.GetTitle(): \n",
      "Problematic atoms are:\n",
      "Atom atomic num: 7, name: , idx: 20, aromatic: False, chiral: True with bonds:\n",
      "bond order: 1, chiral: False to atom atomic num: 6, name: , idx: 19, aromatic: False, chiral: False\n",
      "bond order: 1, chiral: False to atom atomic num: 6, name: , idx: 21, aromatic: True, chiral: False\n",
      "bond order: 1, chiral: False to atom atomic num: 6, name: , idx: 31, aromatic: False, chiral: True\n",
      "\n",
      "100%|███████████████████████████████████████████| 51/51 [24:14<00:00, 28.51s/it]\n"
     ]
    }
   ],
   "source": [
    "topologies = []\n",
    "failed_smiles = []\n",
    "smiles_pattern = \"SMILES '([A-Za-z0-9=\\(\\)\\[\\]]+)'\"\n",
    "for model in tqdm.tqdm(models):\n",
    "    try:\n",
    "        topologies.append(model.to_topology())\n",
    "    except ValueError as e:\n",
    "        if \"No registered toolkits can provide the capability\" in str(e):\n",
    "            smiles = re.search(smiles_pattern, str(e)).group(1)\n",
    "            failed_smiles.append(smiles)"
   ]
  },
  {
   "cell_type": "code",
   "execution_count": 9,
   "id": "c1bdc9f8",
   "metadata": {},
   "outputs": [
    {
     "data": {
      "text/plain": [
       "0"
      ]
     },
     "execution_count": 9,
     "metadata": {},
     "output_type": "execute_result"
    }
   ],
   "source": [
    "len(failed_smiles)"
   ]
  },
  {
   "cell_type": "code",
   "execution_count": 10,
   "id": "e81dc68d",
   "metadata": {},
   "outputs": [],
   "source": [
    "topology_file = f\"openff_topologies_{version_name}.pkl\"\n",
    "with open(topology_file, \"wb\") as f:\n",
    "    pickle.dump(topologies, f)\n",
    "# with open(topology_file, \"rb\") as f:\n",
    "#     topologies = pickle.load(f)"
   ]
  },
  {
   "cell_type": "code",
   "execution_count": 11,
   "id": "64e7deb7",
   "metadata": {},
   "outputs": [],
   "source": [
    "force_field = ForceField(\"openff-2.0.0.offxml\")"
   ]
  },
  {
   "cell_type": "code",
   "execution_count": 12,
   "id": "8f2cee6a",
   "metadata": {},
   "outputs": [
    {
     "name": "stderr",
     "output_type": "stream",
     "text": [
      " 51%|█████████████████████▉                     | 26/51 [08:34<10:26, 25.06s/it]Warning (not error because allow_undefined_stereo=True): OEMol has unspecified stereochemistry. oemol.GetTitle(): \n",
      "Problematic atoms are:\n",
      "Atom atomic num: 7, name: , idx: 4, aromatic: False, chiral: True with bonds:\n",
      "bond order: 1, chiral: False to atom atomic num: 6, name: , idx: 3, aromatic: False, chiral: False\n",
      "bond order: 1, chiral: False to atom atomic num: 6, name: , idx: 5, aromatic: True, chiral: False\n",
      "bond order: 1, chiral: False to atom atomic num: 6, name: , idx: 15, aromatic: False, chiral: False\n",
      "\n",
      " 67%|████████████████████████████▋              | 34/51 [10:34<04:00, 14.12s/it]Warning (not error because allow_undefined_stereo=True): OEMol has unspecified stereochemistry. oemol.GetTitle(): \n",
      "Problematic atoms are:\n",
      "Atom atomic num: 7, name: , idx: 7, aromatic: False, chiral: True with bonds:\n",
      "bond order: 1, chiral: False to atom atomic num: 6, name: , idx: 6, aromatic: True, chiral: False\n",
      "bond order: 1, chiral: False to atom atomic num: 6, name: , idx: 31, aromatic: False, chiral: True\n",
      "bond order: 1, chiral: False to atom atomic num: 6, name: , idx: 8, aromatic: False, chiral: False\n",
      "\n",
      " 75%|████████████████████████████████           | 38/51 [11:47<02:39, 12.25s/it]Warning (not error because allow_undefined_stereo=True): OEMol has unspecified stereochemistry. oemol.GetTitle(): \n",
      "Problematic atoms are:\n",
      "Atom atomic num: 7, name: , idx: 10, aromatic: False, chiral: True with bonds:\n",
      "bond order: 1, chiral: False to atom atomic num: 6, name: , idx: 9, aromatic: True, chiral: False\n",
      "bond order: 1, chiral: False to atom atomic num: 6, name: , idx: 17, aromatic: False, chiral: False\n",
      "bond order: 1, chiral: False to atom atomic num: 6, name: , idx: 11, aromatic: False, chiral: False\n",
      "\n",
      " 84%|████████████████████████████████████▎      | 43/51 [13:32<03:04, 23.06s/it]Warning (not error because allow_undefined_stereo=True): OEMol has unspecified stereochemistry. oemol.GetTitle(): \n",
      "Problematic atoms are:\n",
      "Atom atomic num: 7, name: , idx: 4, aromatic: False, chiral: True with bonds:\n",
      "bond order: 1, chiral: False to atom atomic num: 6, name: , idx: 3, aromatic: True, chiral: False\n",
      "bond order: 1, chiral: False to atom atomic num: 6, name: , idx: 26, aromatic: False, chiral: True\n",
      "bond order: 1, chiral: False to atom atomic num: 6, name: , idx: 5, aromatic: False, chiral: False\n",
      "\n",
      " 88%|█████████████████████████████████████▉     | 45/51 [14:42<02:50, 28.35s/it]Warning (not error because allow_undefined_stereo=True): OEMol has unspecified stereochemistry. oemol.GetTitle(): \n",
      "Problematic atoms are:\n",
      "Atom atomic num: 7, name: , idx: 9, aromatic: False, chiral: True with bonds:\n",
      "bond order: 1, chiral: False to atom atomic num: 6, name: , idx: 4, aromatic: False, chiral: True\n",
      "bond order: 1, chiral: False to atom atomic num: 6, name: , idx: 10, aromatic: False, chiral: True\n",
      "bond order: 1, chiral: False to atom atomic num: 16, name: , idx: 30, aromatic: False, chiral: False\n",
      "\n",
      " 92%|███████████████████████████████████████▋   | 47/51 [21:02<06:20, 95.23s/it]Warning (not error because allow_undefined_stereo=True): OEMol has unspecified stereochemistry. oemol.GetTitle(): \n",
      "Problematic atoms are:\n",
      "Atom atomic num: 7, name: , idx: 4, aromatic: False, chiral: True with bonds:\n",
      "bond order: 1, chiral: False to atom atomic num: 16, name: , idx: 1, aromatic: False, chiral: False\n",
      "bond order: 1, chiral: False to atom atomic num: 6, name: , idx: 28, aromatic: False, chiral: False\n",
      "bond order: 1, chiral: False to atom atomic num: 6, name: , idx: 5, aromatic: False, chiral: False\n",
      "\n",
      " 98%|██████████████████████████████████████████▏| 50/51 [23:12<01:03, 63.31s/it]Warning (not error because allow_undefined_stereo=True): OEMol has unspecified stereochemistry. oemol.GetTitle(): \n",
      "Problematic atoms are:\n",
      "Atom atomic num: 7, name: , idx: 20, aromatic: False, chiral: True with bonds:\n",
      "bond order: 1, chiral: False to atom atomic num: 6, name: , idx: 19, aromatic: False, chiral: False\n",
      "bond order: 1, chiral: False to atom atomic num: 6, name: , idx: 21, aromatic: True, chiral: False\n",
      "bond order: 1, chiral: False to atom atomic num: 6, name: , idx: 31, aromatic: False, chiral: True\n",
      "\n",
      "100%|███████████████████████████████████████████| 51/51 [24:14<00:00, 28.52s/it]\n"
     ]
    }
   ],
   "source": [
    "interchanges = [\n",
    "    Interchange.from_smirnoff(force_field, topology)\n",
    "    for topology in tqdm.tqdm(topologies)\n",
    "]\n",
    "\n",
    "interchange_systems = [\n",
    "    ichange.to_openmm(combine_nonbonded_forces=True)\n",
    "    for ichange in interchanges\n",
    "]"
   ]
  },
  {
   "cell_type": "code",
   "execution_count": 13,
   "id": "1fda15f7",
   "metadata": {
    "scrolled": true
   },
   "outputs": [
    {
     "name": "stderr",
     "output_type": "stream",
     "text": [
      "100%|███████████████████████████████████████████| 51/51 [00:11<00:00,  4.27it/s]\n"
     ]
    }
   ],
   "source": [
    "toolkit_systems = [\n",
    "    force_field.create_openmm_system(topology)\n",
    "    for topology in tqdm.tqdm(topologies)\n",
    "]"
   ]
  },
  {
   "cell_type": "code",
   "execution_count": 14,
   "id": "85b80b0f",
   "metadata": {},
   "outputs": [],
   "source": [
    "def get_charges(\n",
    "    system,\n",
    "    model_index: int = 0,\n",
    "    version: str = \"interchange\",\n",
    ") -> pd.DataFrame:\n",
    "    force = [\n",
    "        force for force in system.getForces()\n",
    "        if \"NonbondedForce\" in str(type(force))\n",
    "    ][0]\n",
    "    \n",
    "    name = models[model_index].name\n",
    "    data = {\"particle_index\": [], \"charge\": []}\n",
    "    for i in range(force.getNumParticles()):\n",
    "        charge, *_ = force.getParticleParameters(i)\n",
    "        data[\"particle_index\"].append(i)\n",
    "        data[\"charge\"].append(charge._value)\n",
    "    \n",
    "    df = pd.DataFrame(data)\n",
    "    df[\"name\"] = name\n",
    "    df[\"version\"] = version\n",
    "    return df"
   ]
  },
  {
   "cell_type": "code",
   "execution_count": 16,
   "id": "2032dff4",
   "metadata": {},
   "outputs": [
    {
     "name": "stderr",
     "output_type": "stream",
     "text": [
      "  0%|                                                    | 0/51 [00:00<?, ?it/s]/Users/lily/pydev/toolkit/openff/toolkit/topology/topology.py:49: TopologyDeprecationWarning: Topology.topology_molecules is deprecated. Use Topology.molecules instead.\n",
      "  warnings.warn(\n",
      "/var/folders/rv/j6lbln6j0kvb5svxj8wflc400000gn/T/ipykernel_52088/1658488565.py:32: UnitStrippedWarning: The unit of the quantity is stripped when downcasting to ndarray.\n",
      "  for charge in np.array(molecule.partial_charges)\n",
      "/Users/lily/pydev/toolkit/openff/toolkit/topology/topology.py:49: TopologyDeprecationWarning: Topology.topology_molecules is deprecated. Use Topology.molecules instead.\n",
      "  warnings.warn(\n",
      "/var/folders/rv/j6lbln6j0kvb5svxj8wflc400000gn/T/ipykernel_52088/1658488565.py:32: UnitStrippedWarning: The unit of the quantity is stripped when downcasting to ndarray.\n",
      "  for charge in np.array(molecule.partial_charges)\n",
      "/Users/lily/pydev/toolkit/openff/toolkit/topology/topology.py:49: TopologyDeprecationWarning: Topology.topology_molecules is deprecated. Use Topology.molecules instead.\n",
      "  warnings.warn(\n",
      "/var/folders/rv/j6lbln6j0kvb5svxj8wflc400000gn/T/ipykernel_52088/1658488565.py:32: UnitStrippedWarning: The unit of the quantity is stripped when downcasting to ndarray.\n",
      "  for charge in np.array(molecule.partial_charges)\n",
      "/Users/lily/pydev/toolkit/openff/toolkit/topology/topology.py:49: TopologyDeprecationWarning: Topology.topology_molecules is deprecated. Use Topology.molecules instead.\n",
      "  warnings.warn(\n",
      "/var/folders/rv/j6lbln6j0kvb5svxj8wflc400000gn/T/ipykernel_52088/1658488565.py:32: UnitStrippedWarning: The unit of the quantity is stripped when downcasting to ndarray.\n",
      "  for charge in np.array(molecule.partial_charges)\n",
      "/Users/lily/pydev/toolkit/openff/toolkit/topology/topology.py:49: TopologyDeprecationWarning: Topology.topology_molecules is deprecated. Use Topology.molecules instead.\n",
      "  warnings.warn(\n",
      "/var/folders/rv/j6lbln6j0kvb5svxj8wflc400000gn/T/ipykernel_52088/1658488565.py:32: UnitStrippedWarning: The unit of the quantity is stripped when downcasting to ndarray.\n",
      "  for charge in np.array(molecule.partial_charges)\n",
      "/Users/lily/pydev/toolkit/openff/toolkit/topology/topology.py:49: TopologyDeprecationWarning: Topology.topology_molecules is deprecated. Use Topology.molecules instead.\n",
      "  warnings.warn(\n",
      "/var/folders/rv/j6lbln6j0kvb5svxj8wflc400000gn/T/ipykernel_52088/1658488565.py:32: UnitStrippedWarning: The unit of the quantity is stripped when downcasting to ndarray.\n",
      "  for charge in np.array(molecule.partial_charges)\n",
      "/Users/lily/pydev/toolkit/openff/toolkit/topology/topology.py:49: TopologyDeprecationWarning: Topology.topology_molecules is deprecated. Use Topology.molecules instead.\n",
      "  warnings.warn(\n",
      "/var/folders/rv/j6lbln6j0kvb5svxj8wflc400000gn/T/ipykernel_52088/1658488565.py:32: UnitStrippedWarning: The unit of the quantity is stripped when downcasting to ndarray.\n",
      "  for charge in np.array(molecule.partial_charges)\n",
      "/Users/lily/pydev/toolkit/openff/toolkit/topology/topology.py:49: TopologyDeprecationWarning: Topology.topology_molecules is deprecated. Use Topology.molecules instead.\n",
      "  warnings.warn(\n",
      "/var/folders/rv/j6lbln6j0kvb5svxj8wflc400000gn/T/ipykernel_52088/1658488565.py:32: UnitStrippedWarning: The unit of the quantity is stripped when downcasting to ndarray.\n",
      "  for charge in np.array(molecule.partial_charges)\n",
      "/Users/lily/pydev/toolkit/openff/toolkit/topology/topology.py:49: TopologyDeprecationWarning: Topology.topology_molecules is deprecated. Use Topology.molecules instead.\n",
      "  warnings.warn(\n",
      "/var/folders/rv/j6lbln6j0kvb5svxj8wflc400000gn/T/ipykernel_52088/1658488565.py:32: UnitStrippedWarning: The unit of the quantity is stripped when downcasting to ndarray.\n",
      "  for charge in np.array(molecule.partial_charges)\n",
      "/Users/lily/pydev/toolkit/openff/toolkit/topology/topology.py:49: TopologyDeprecationWarning: Topology.topology_molecules is deprecated. Use Topology.molecules instead.\n",
      "  warnings.warn(\n",
      "/var/folders/rv/j6lbln6j0kvb5svxj8wflc400000gn/T/ipykernel_52088/1658488565.py:32: UnitStrippedWarning: The unit of the quantity is stripped when downcasting to ndarray.\n",
      "  for charge in np.array(molecule.partial_charges)\n",
      "/Users/lily/pydev/toolkit/openff/toolkit/topology/topology.py:49: TopologyDeprecationWarning: Topology.topology_molecules is deprecated. Use Topology.molecules instead.\n",
      "  warnings.warn(\n",
      "/var/folders/rv/j6lbln6j0kvb5svxj8wflc400000gn/T/ipykernel_52088/1658488565.py:32: UnitStrippedWarning: The unit of the quantity is stripped when downcasting to ndarray.\n",
      "  for charge in np.array(molecule.partial_charges)\n",
      "/Users/lily/pydev/toolkit/openff/toolkit/topology/topology.py:49: TopologyDeprecationWarning: Topology.topology_molecules is deprecated. Use Topology.molecules instead.\n",
      "  warnings.warn(\n",
      "/var/folders/rv/j6lbln6j0kvb5svxj8wflc400000gn/T/ipykernel_52088/1658488565.py:32: UnitStrippedWarning: The unit of the quantity is stripped when downcasting to ndarray.\n",
      "  for charge in np.array(molecule.partial_charges)\n",
      "/Users/lily/pydev/toolkit/openff/toolkit/topology/topology.py:49: TopologyDeprecationWarning: Topology.topology_molecules is deprecated. Use Topology.molecules instead.\n",
      "  warnings.warn(\n",
      "/var/folders/rv/j6lbln6j0kvb5svxj8wflc400000gn/T/ipykernel_52088/1658488565.py:32: UnitStrippedWarning: The unit of the quantity is stripped when downcasting to ndarray.\n",
      "  for charge in np.array(molecule.partial_charges)\n",
      "/Users/lily/pydev/toolkit/openff/toolkit/topology/topology.py:49: TopologyDeprecationWarning: Topology.topology_molecules is deprecated. Use Topology.molecules instead.\n",
      "  warnings.warn(\n",
      "/var/folders/rv/j6lbln6j0kvb5svxj8wflc400000gn/T/ipykernel_52088/1658488565.py:32: UnitStrippedWarning: The unit of the quantity is stripped when downcasting to ndarray.\n",
      "  for charge in np.array(molecule.partial_charges)\n",
      " 27%|███████████▌                              | 14/51 [00:00<00:00, 136.59it/s]/Users/lily/pydev/toolkit/openff/toolkit/topology/topology.py:49: TopologyDeprecationWarning: Topology.topology_molecules is deprecated. Use Topology.molecules instead.\n",
      "  warnings.warn(\n",
      "/var/folders/rv/j6lbln6j0kvb5svxj8wflc400000gn/T/ipykernel_52088/1658488565.py:32: UnitStrippedWarning: The unit of the quantity is stripped when downcasting to ndarray.\n",
      "  for charge in np.array(molecule.partial_charges)\n",
      "/Users/lily/pydev/toolkit/openff/toolkit/topology/topology.py:49: TopologyDeprecationWarning: Topology.topology_molecules is deprecated. Use Topology.molecules instead.\n",
      "  warnings.warn(\n",
      "/var/folders/rv/j6lbln6j0kvb5svxj8wflc400000gn/T/ipykernel_52088/1658488565.py:32: UnitStrippedWarning: The unit of the quantity is stripped when downcasting to ndarray.\n",
      "  for charge in np.array(molecule.partial_charges)\n",
      "/Users/lily/pydev/toolkit/openff/toolkit/topology/topology.py:49: TopologyDeprecationWarning: Topology.topology_molecules is deprecated. Use Topology.molecules instead.\n",
      "  warnings.warn(\n",
      "/var/folders/rv/j6lbln6j0kvb5svxj8wflc400000gn/T/ipykernel_52088/1658488565.py:32: UnitStrippedWarning: The unit of the quantity is stripped when downcasting to ndarray.\n",
      "  for charge in np.array(molecule.partial_charges)\n",
      "/Users/lily/pydev/toolkit/openff/toolkit/topology/topology.py:49: TopologyDeprecationWarning: Topology.topology_molecules is deprecated. Use Topology.molecules instead.\n",
      "  warnings.warn(\n",
      "/var/folders/rv/j6lbln6j0kvb5svxj8wflc400000gn/T/ipykernel_52088/1658488565.py:32: UnitStrippedWarning: The unit of the quantity is stripped when downcasting to ndarray.\n",
      "  for charge in np.array(molecule.partial_charges)\n",
      "/Users/lily/pydev/toolkit/openff/toolkit/topology/topology.py:49: TopologyDeprecationWarning: Topology.topology_molecules is deprecated. Use Topology.molecules instead.\n",
      "  warnings.warn(\n",
      "/var/folders/rv/j6lbln6j0kvb5svxj8wflc400000gn/T/ipykernel_52088/1658488565.py:32: UnitStrippedWarning: The unit of the quantity is stripped when downcasting to ndarray.\n",
      "  for charge in np.array(molecule.partial_charges)\n",
      "/Users/lily/pydev/toolkit/openff/toolkit/topology/topology.py:49: TopologyDeprecationWarning: Topology.topology_molecules is deprecated. Use Topology.molecules instead.\n",
      "  warnings.warn(\n",
      "/var/folders/rv/j6lbln6j0kvb5svxj8wflc400000gn/T/ipykernel_52088/1658488565.py:32: UnitStrippedWarning: The unit of the quantity is stripped when downcasting to ndarray.\n",
      "  for charge in np.array(molecule.partial_charges)\n",
      "/Users/lily/pydev/toolkit/openff/toolkit/topology/topology.py:49: TopologyDeprecationWarning: Topology.topology_molecules is deprecated. Use Topology.molecules instead.\n",
      "  warnings.warn(\n",
      "/var/folders/rv/j6lbln6j0kvb5svxj8wflc400000gn/T/ipykernel_52088/1658488565.py:32: UnitStrippedWarning: The unit of the quantity is stripped when downcasting to ndarray.\n",
      "  for charge in np.array(molecule.partial_charges)\n",
      "/Users/lily/pydev/toolkit/openff/toolkit/topology/topology.py:49: TopologyDeprecationWarning: Topology.topology_molecules is deprecated. Use Topology.molecules instead.\n",
      "  warnings.warn(\n",
      "/var/folders/rv/j6lbln6j0kvb5svxj8wflc400000gn/T/ipykernel_52088/1658488565.py:32: UnitStrippedWarning: The unit of the quantity is stripped when downcasting to ndarray.\n",
      "  for charge in np.array(molecule.partial_charges)\n",
      "/Users/lily/pydev/toolkit/openff/toolkit/topology/topology.py:49: TopologyDeprecationWarning: Topology.topology_molecules is deprecated. Use Topology.molecules instead.\n",
      "  warnings.warn(\n",
      "/var/folders/rv/j6lbln6j0kvb5svxj8wflc400000gn/T/ipykernel_52088/1658488565.py:32: UnitStrippedWarning: The unit of the quantity is stripped when downcasting to ndarray.\n",
      "  for charge in np.array(molecule.partial_charges)\n",
      "/Users/lily/pydev/toolkit/openff/toolkit/topology/topology.py:49: TopologyDeprecationWarning: Topology.topology_molecules is deprecated. Use Topology.molecules instead.\n",
      "  warnings.warn(\n",
      "/var/folders/rv/j6lbln6j0kvb5svxj8wflc400000gn/T/ipykernel_52088/1658488565.py:32: UnitStrippedWarning: The unit of the quantity is stripped when downcasting to ndarray.\n",
      "  for charge in np.array(molecule.partial_charges)\n",
      "/Users/lily/pydev/toolkit/openff/toolkit/topology/topology.py:49: TopologyDeprecationWarning: Topology.topology_molecules is deprecated. Use Topology.molecules instead.\n",
      "  warnings.warn(\n",
      "/var/folders/rv/j6lbln6j0kvb5svxj8wflc400000gn/T/ipykernel_52088/1658488565.py:32: UnitStrippedWarning: The unit of the quantity is stripped when downcasting to ndarray.\n",
      "  for charge in np.array(molecule.partial_charges)\n",
      "/Users/lily/pydev/toolkit/openff/toolkit/topology/topology.py:49: TopologyDeprecationWarning: Topology.topology_molecules is deprecated. Use Topology.molecules instead.\n",
      "  warnings.warn(\n",
      "/var/folders/rv/j6lbln6j0kvb5svxj8wflc400000gn/T/ipykernel_52088/1658488565.py:32: UnitStrippedWarning: The unit of the quantity is stripped when downcasting to ndarray.\n",
      "  for charge in np.array(molecule.partial_charges)\n",
      "/Users/lily/pydev/toolkit/openff/toolkit/topology/topology.py:49: TopologyDeprecationWarning: Topology.topology_molecules is deprecated. Use Topology.molecules instead.\n",
      "  warnings.warn(\n",
      "/var/folders/rv/j6lbln6j0kvb5svxj8wflc400000gn/T/ipykernel_52088/1658488565.py:32: UnitStrippedWarning: The unit of the quantity is stripped when downcasting to ndarray.\n",
      "  for charge in np.array(molecule.partial_charges)\n",
      "/Users/lily/pydev/toolkit/openff/toolkit/topology/topology.py:49: TopologyDeprecationWarning: Topology.topology_molecules is deprecated. Use Topology.molecules instead.\n",
      "  warnings.warn(\n",
      "/var/folders/rv/j6lbln6j0kvb5svxj8wflc400000gn/T/ipykernel_52088/1658488565.py:32: UnitStrippedWarning: The unit of the quantity is stripped when downcasting to ndarray.\n",
      "  for charge in np.array(molecule.partial_charges)\n"
     ]
    },
    {
     "name": "stderr",
     "output_type": "stream",
     "text": [
      " 55%|███████████████████████                   | 28/51 [00:00<00:00, 137.85it/s]/Users/lily/pydev/toolkit/openff/toolkit/topology/topology.py:49: TopologyDeprecationWarning: Topology.topology_molecules is deprecated. Use Topology.molecules instead.\n",
      "  warnings.warn(\n",
      "/var/folders/rv/j6lbln6j0kvb5svxj8wflc400000gn/T/ipykernel_52088/1658488565.py:32: UnitStrippedWarning: The unit of the quantity is stripped when downcasting to ndarray.\n",
      "  for charge in np.array(molecule.partial_charges)\n",
      "/Users/lily/pydev/toolkit/openff/toolkit/topology/topology.py:49: TopologyDeprecationWarning: Topology.topology_molecules is deprecated. Use Topology.molecules instead.\n",
      "  warnings.warn(\n",
      "/var/folders/rv/j6lbln6j0kvb5svxj8wflc400000gn/T/ipykernel_52088/1658488565.py:32: UnitStrippedWarning: The unit of the quantity is stripped when downcasting to ndarray.\n",
      "  for charge in np.array(molecule.partial_charges)\n",
      "/Users/lily/pydev/toolkit/openff/toolkit/topology/topology.py:49: TopologyDeprecationWarning: Topology.topology_molecules is deprecated. Use Topology.molecules instead.\n",
      "  warnings.warn(\n",
      "/var/folders/rv/j6lbln6j0kvb5svxj8wflc400000gn/T/ipykernel_52088/1658488565.py:32: UnitStrippedWarning: The unit of the quantity is stripped when downcasting to ndarray.\n",
      "  for charge in np.array(molecule.partial_charges)\n",
      "/Users/lily/pydev/toolkit/openff/toolkit/topology/topology.py:49: TopologyDeprecationWarning: Topology.topology_molecules is deprecated. Use Topology.molecules instead.\n",
      "  warnings.warn(\n",
      "/var/folders/rv/j6lbln6j0kvb5svxj8wflc400000gn/T/ipykernel_52088/1658488565.py:32: UnitStrippedWarning: The unit of the quantity is stripped when downcasting to ndarray.\n",
      "  for charge in np.array(molecule.partial_charges)\n",
      "/Users/lily/pydev/toolkit/openff/toolkit/topology/topology.py:49: TopologyDeprecationWarning: Topology.topology_molecules is deprecated. Use Topology.molecules instead.\n",
      "  warnings.warn(\n",
      "/var/folders/rv/j6lbln6j0kvb5svxj8wflc400000gn/T/ipykernel_52088/1658488565.py:32: UnitStrippedWarning: The unit of the quantity is stripped when downcasting to ndarray.\n",
      "  for charge in np.array(molecule.partial_charges)\n",
      "/Users/lily/pydev/toolkit/openff/toolkit/topology/topology.py:49: TopologyDeprecationWarning: Topology.topology_molecules is deprecated. Use Topology.molecules instead.\n",
      "  warnings.warn(\n",
      "/var/folders/rv/j6lbln6j0kvb5svxj8wflc400000gn/T/ipykernel_52088/1658488565.py:32: UnitStrippedWarning: The unit of the quantity is stripped when downcasting to ndarray.\n",
      "  for charge in np.array(molecule.partial_charges)\n",
      "/Users/lily/pydev/toolkit/openff/toolkit/topology/topology.py:49: TopologyDeprecationWarning: Topology.topology_molecules is deprecated. Use Topology.molecules instead.\n",
      "  warnings.warn(\n",
      "/var/folders/rv/j6lbln6j0kvb5svxj8wflc400000gn/T/ipykernel_52088/1658488565.py:32: UnitStrippedWarning: The unit of the quantity is stripped when downcasting to ndarray.\n",
      "  for charge in np.array(molecule.partial_charges)\n",
      "/Users/lily/pydev/toolkit/openff/toolkit/topology/topology.py:49: TopologyDeprecationWarning: Topology.topology_molecules is deprecated. Use Topology.molecules instead.\n",
      "  warnings.warn(\n",
      "/var/folders/rv/j6lbln6j0kvb5svxj8wflc400000gn/T/ipykernel_52088/1658488565.py:32: UnitStrippedWarning: The unit of the quantity is stripped when downcasting to ndarray.\n",
      "  for charge in np.array(molecule.partial_charges)\n",
      "/Users/lily/pydev/toolkit/openff/toolkit/topology/topology.py:49: TopologyDeprecationWarning: Topology.topology_molecules is deprecated. Use Topology.molecules instead.\n",
      "  warnings.warn(\n",
      "/var/folders/rv/j6lbln6j0kvb5svxj8wflc400000gn/T/ipykernel_52088/1658488565.py:32: UnitStrippedWarning: The unit of the quantity is stripped when downcasting to ndarray.\n",
      "  for charge in np.array(molecule.partial_charges)\n",
      "/Users/lily/pydev/toolkit/openff/toolkit/topology/topology.py:49: TopologyDeprecationWarning: Topology.topology_molecules is deprecated. Use Topology.molecules instead.\n",
      "  warnings.warn(\n",
      "/var/folders/rv/j6lbln6j0kvb5svxj8wflc400000gn/T/ipykernel_52088/1658488565.py:32: UnitStrippedWarning: The unit of the quantity is stripped when downcasting to ndarray.\n",
      "  for charge in np.array(molecule.partial_charges)\n",
      "/Users/lily/pydev/toolkit/openff/toolkit/topology/topology.py:49: TopologyDeprecationWarning: Topology.topology_molecules is deprecated. Use Topology.molecules instead.\n",
      "  warnings.warn(\n",
      "/var/folders/rv/j6lbln6j0kvb5svxj8wflc400000gn/T/ipykernel_52088/1658488565.py:32: UnitStrippedWarning: The unit of the quantity is stripped when downcasting to ndarray.\n",
      "  for charge in np.array(molecule.partial_charges)\n",
      "/Users/lily/pydev/toolkit/openff/toolkit/topology/topology.py:49: TopologyDeprecationWarning: Topology.topology_molecules is deprecated. Use Topology.molecules instead.\n",
      "  warnings.warn(\n",
      "/var/folders/rv/j6lbln6j0kvb5svxj8wflc400000gn/T/ipykernel_52088/1658488565.py:32: UnitStrippedWarning: The unit of the quantity is stripped when downcasting to ndarray.\n",
      "  for charge in np.array(molecule.partial_charges)\n",
      "/Users/lily/pydev/toolkit/openff/toolkit/topology/topology.py:49: TopologyDeprecationWarning: Topology.topology_molecules is deprecated. Use Topology.molecules instead.\n",
      "  warnings.warn(\n",
      "/var/folders/rv/j6lbln6j0kvb5svxj8wflc400000gn/T/ipykernel_52088/1658488565.py:32: UnitStrippedWarning: The unit of the quantity is stripped when downcasting to ndarray.\n",
      "  for charge in np.array(molecule.partial_charges)\n",
      "/Users/lily/pydev/toolkit/openff/toolkit/topology/topology.py:49: TopologyDeprecationWarning: Topology.topology_molecules is deprecated. Use Topology.molecules instead.\n",
      "  warnings.warn(\n",
      "/var/folders/rv/j6lbln6j0kvb5svxj8wflc400000gn/T/ipykernel_52088/1658488565.py:32: UnitStrippedWarning: The unit of the quantity is stripped when downcasting to ndarray.\n",
      "  for charge in np.array(molecule.partial_charges)\n",
      " 82%|██████████████████████████████████▌       | 42/51 [00:00<00:00, 137.51it/s]/Users/lily/pydev/toolkit/openff/toolkit/topology/topology.py:49: TopologyDeprecationWarning: Topology.topology_molecules is deprecated. Use Topology.molecules instead.\n",
      "  warnings.warn(\n",
      "/var/folders/rv/j6lbln6j0kvb5svxj8wflc400000gn/T/ipykernel_52088/1658488565.py:32: UnitStrippedWarning: The unit of the quantity is stripped when downcasting to ndarray.\n",
      "  for charge in np.array(molecule.partial_charges)\n",
      "/Users/lily/pydev/toolkit/openff/toolkit/topology/topology.py:49: TopologyDeprecationWarning: Topology.topology_molecules is deprecated. Use Topology.molecules instead.\n",
      "  warnings.warn(\n",
      "/var/folders/rv/j6lbln6j0kvb5svxj8wflc400000gn/T/ipykernel_52088/1658488565.py:32: UnitStrippedWarning: The unit of the quantity is stripped when downcasting to ndarray.\n",
      "  for charge in np.array(molecule.partial_charges)\n",
      "/Users/lily/pydev/toolkit/openff/toolkit/topology/topology.py:49: TopologyDeprecationWarning: Topology.topology_molecules is deprecated. Use Topology.molecules instead.\n",
      "  warnings.warn(\n",
      "/var/folders/rv/j6lbln6j0kvb5svxj8wflc400000gn/T/ipykernel_52088/1658488565.py:32: UnitStrippedWarning: The unit of the quantity is stripped when downcasting to ndarray.\n",
      "  for charge in np.array(molecule.partial_charges)\n",
      "/Users/lily/pydev/toolkit/openff/toolkit/topology/topology.py:49: TopologyDeprecationWarning: Topology.topology_molecules is deprecated. Use Topology.molecules instead.\n",
      "  warnings.warn(\n",
      "/var/folders/rv/j6lbln6j0kvb5svxj8wflc400000gn/T/ipykernel_52088/1658488565.py:32: UnitStrippedWarning: The unit of the quantity is stripped when downcasting to ndarray.\n",
      "  for charge in np.array(molecule.partial_charges)\n",
      "/Users/lily/pydev/toolkit/openff/toolkit/topology/topology.py:49: TopologyDeprecationWarning: Topology.topology_molecules is deprecated. Use Topology.molecules instead.\n",
      "  warnings.warn(\n",
      "/var/folders/rv/j6lbln6j0kvb5svxj8wflc400000gn/T/ipykernel_52088/1658488565.py:32: UnitStrippedWarning: The unit of the quantity is stripped when downcasting to ndarray.\n",
      "  for charge in np.array(molecule.partial_charges)\n",
      "/Users/lily/pydev/toolkit/openff/toolkit/topology/topology.py:49: TopologyDeprecationWarning: Topology.topology_molecules is deprecated. Use Topology.molecules instead.\n",
      "  warnings.warn(\n",
      "/var/folders/rv/j6lbln6j0kvb5svxj8wflc400000gn/T/ipykernel_52088/1658488565.py:32: UnitStrippedWarning: The unit of the quantity is stripped when downcasting to ndarray.\n",
      "  for charge in np.array(molecule.partial_charges)\n",
      "/Users/lily/pydev/toolkit/openff/toolkit/topology/topology.py:49: TopologyDeprecationWarning: Topology.topology_molecules is deprecated. Use Topology.molecules instead.\n",
      "  warnings.warn(\n",
      "/var/folders/rv/j6lbln6j0kvb5svxj8wflc400000gn/T/ipykernel_52088/1658488565.py:32: UnitStrippedWarning: The unit of the quantity is stripped when downcasting to ndarray.\n",
      "  for charge in np.array(molecule.partial_charges)\n",
      "/Users/lily/pydev/toolkit/openff/toolkit/topology/topology.py:49: TopologyDeprecationWarning: Topology.topology_molecules is deprecated. Use Topology.molecules instead.\n",
      "  warnings.warn(\n",
      "/var/folders/rv/j6lbln6j0kvb5svxj8wflc400000gn/T/ipykernel_52088/1658488565.py:32: UnitStrippedWarning: The unit of the quantity is stripped when downcasting to ndarray.\n",
      "  for charge in np.array(molecule.partial_charges)\n",
      "/Users/lily/pydev/toolkit/openff/toolkit/topology/topology.py:49: TopologyDeprecationWarning: Topology.topology_molecules is deprecated. Use Topology.molecules instead.\n",
      "  warnings.warn(\n",
      "/var/folders/rv/j6lbln6j0kvb5svxj8wflc400000gn/T/ipykernel_52088/1658488565.py:32: UnitStrippedWarning: The unit of the quantity is stripped when downcasting to ndarray.\n",
      "  for charge in np.array(molecule.partial_charges)\n"
     ]
    },
    {
     "name": "stderr",
     "output_type": "stream",
     "text": [
      "100%|██████████████████████████████████████████| 51/51 [00:00<00:00, 132.68it/s]\n"
     ]
    }
   ],
   "source": [
    "all_charge_dfs = []\n",
    "\n",
    "for i, (ichange, toolkit) in tqdm.tqdm(\n",
    "    list(enumerate(zip(interchange_systems, toolkit_systems)))\n",
    "):\n",
    "    model = models[i]\n",
    "    \n",
    "    name = model.name\n",
    "    ixml = openmm.XmlSerializer.serialize(ichange)\n",
    "    txml = openmm.XmlSerializer.serialize(toolkit)\n",
    "    \n",
    "    iname = f\"from-interchange_{version_name}\"\n",
    "    tname = f\"from-toolkit_{version_name}\"\n",
    "    \n",
    "    ifile = f\"xmls/{name}-{iname}.xml\"\n",
    "    tfile = f\"xmls/{name}-{tname}.xml\"\n",
    "    \n",
    "    \n",
    "    with open(ifile, \"w\") as f:\n",
    "        f.write(ixml)\n",
    "    with open(tfile, \"w\") as f:\n",
    "        f.write(txml)\n",
    "        \n",
    "    idf = get_charges(ichange, model_index=i, version=iname)\n",
    "    tdf = get_charges(toolkit, model_index=i, version=tname)\n",
    "    \n",
    "    model_df = copy.deepcopy(tdf)\n",
    "    model_df[\"version\"] = f\"original_topology_{version_name}\"\n",
    "    model_df[\"charge\"] = [\n",
    "        charge\n",
    "        for molecule in topologies[i].topology_molecules\n",
    "        for charge in np.array(molecule.partial_charges)\n",
    "    ]\n",
    "    \n",
    "    all_charge_dfs.extend([idf, tdf, model_df])\n",
    "\n",
    "charge_df = pd.concat(all_charge_dfs)"
   ]
  },
  {
   "cell_type": "code",
   "execution_count": 17,
   "id": "2dd2861f",
   "metadata": {},
   "outputs": [
    {
     "data": {
      "text/plain": [
       "array(['from-interchange_toolkit-0.10.1+102.gf264ffff_interchange-v0.2.0-alpha.5',\n",
       "       'from-toolkit_toolkit-0.10.1+102.gf264ffff_interchange-v0.2.0-alpha.5',\n",
       "       'original_topology_toolkit-0.10.1+102.gf264ffff_interchange-v0.2.0-alpha.5'],\n",
       "      dtype=object)"
      ]
     },
     "execution_count": 17,
     "metadata": {},
     "output_type": "execute_result"
    }
   ],
   "source": [
    "charge_df.version.unique()"
   ]
  },
  {
   "cell_type": "code",
   "execution_count": 18,
   "id": "a47969dc",
   "metadata": {
    "scrolled": true
   },
   "outputs": [],
   "source": [
    "charge_df.to_csv(f\"charges_{version_name}.csv\")"
   ]
  },
  {
   "cell_type": "code",
   "execution_count": 19,
   "id": "9cd95278",
   "metadata": {},
   "outputs": [
    {
     "data": {
      "text/plain": [
       "'toolkit-0.10.1+102.gf264ffff_interchange-v0.2.0-alpha.5'"
      ]
     },
     "execution_count": 19,
     "metadata": {},
     "output_type": "execute_result"
    }
   ],
   "source": [
    "version_name"
   ]
  },
  {
   "cell_type": "code",
   "execution_count": null,
   "id": "c3732420",
   "metadata": {},
   "outputs": [],
   "source": []
  }
 ],
 "metadata": {
  "kernelspec": {
   "display_name": "Python (interchange-regression-testing)",
   "language": "python",
   "name": "interchange-regression-testing"
  },
  "language_info": {
   "codemirror_mode": {
    "name": "ipython",
    "version": 3
   },
   "file_extension": ".py",
   "mimetype": "text/x-python",
   "name": "python",
   "nbconvert_exporter": "python",
   "pygments_lexer": "ipython3",
   "version": "3.9.13"
  }
 },
 "nbformat": 4,
 "nbformat_minor": 5
}
